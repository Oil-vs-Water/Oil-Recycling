{
 "cells": [
  {
   "attachments": {},
   "cell_type": "markdown",
   "metadata": {},
   "source": [
    "### <div align=\"center\">***GIT***</div>\n",
    "***\n",
    "Sistema de control de versiones de archivos.\n",
    "\n",
    "El registro y almacen de cambios en los archivos se procesa en dos areas:\n",
    "\n",
    "- **Working directory (carpeta local)** \n",
    "- **Staging area (temporal)**. Se alcanza con ```git add```.\n",
    "- **Repositorio local (permanente)**. Se alcanza con ```git commit```. Los commits son como instantaneas, checkpoints o puntos de guardado\n",
    "\n",
    "A la terminal de git se puede acceder abriendo git bash en la carpeta del repo o abriendo la terminal de git en VSC.\n",
    "\n",
    "Estado de los archivos:\n",
    "- M: el archivo ha sido modificado desde su última confirmación (commit).\n",
    "- A: el archivo ha sido añadido al área de preparación (staging area).\n",
    "- D: el archivo ha sido eliminado del árbol de trabajo (working tree) y está pendiente de ser eliminado del repositorio en la próxima confirmación.\n",
    "- R: el archivo ha sido renombrado.\n",
    "- C: el archivo ha sido copiado.\n",
    "- U: el archivo tiene conflictos de unión (merge conflicts).\n",
    "- ?: el archivo es desconocido para Git, es decir, no está siendo rastreado.\n",
    "\n",
    "\n",
    "**Fork**. Copia o clon independiente de un repositorio existente que se guarda en una cuenta diferente que puede ser modificado sin afectar al repo original (desarrollo en paralelo).\n",
    "\n",
    "Importante llamar a la rama principal main, no master."
   ]
  },
  {
   "attachments": {},
   "cell_type": "markdown",
   "metadata": {},
   "source": [
    "##### **CREAR UN REPOSITORIO**\n",
    "\n",
    "Un repositorio es un directorio que contiene todos los archivos y carpetas de un proyecto, junto con el historial de los cambios que se realizan en ellos, lo que permite a los usuarios ver los cambios realizados a lo largo del tiempo, y recuperar versiones anteriores si es necesario\n",
    "\n",
    "\n",
    "1. \"Git Bash\" dentro de la carpeta que quiero subir.  \n",
    "\n",
    "2. Escribimos 'git init' consola. Esto crea un repositorio (archivo que lleva un control de los cambios que se hacen en el directorio)  \n",
    "\n",
    "3. Escribimos 'git status' para consultar un resumen de los cambios que se han hecho en ese directorio. Tambien comprobar que todo está funcionando.  \n",
    "\n",
    "4. Hacemos algun cambio (creamos una carpeta por ejemplo) y escribimos 'git add .' Este comando añade o coloca todo lo que hay en el directorio en la staying area. O puedes poner git add \"nombre archivo\"\n",
    "Al hacer git status vemos que aparece el archivo en verde a continuación \"changes to be commited\", si no apareceria en rojo a continuación de \"untracked files\".  \n",
    "\n",
    "5. 'git commit -m \"first commit\" '. Hace el primer commit."
   ]
  },
  {
   "attachments": {},
   "cell_type": "markdown",
   "metadata": {},
   "source": [
    "##### **SUBIR UN REPOSITORIO A GITHUB CON UNO YA EXISTENTE**\n",
    "\n",
    "1. git bash en el directorio existente\n",
    "2. git remote add origin https://github.com/marinagoju/MyRepository.git (crea un repositorio remoto llamado origin y lo conecta con la ruta remota donde ira guardando cambios)\n",
    "3. git branch -M main (renombre forzoso de master a main)\n",
    "4. git push -u origin main"
   ]
  },
  {
   "attachments": {},
   "cell_type": "markdown",
   "metadata": {},
   "source": [
    "##### **COMANDOS GIT**"
   ]
  },
  {
   "attachments": {},
   "cell_type": "markdown",
   "metadata": {},
   "source": [
    "#### **Iniciar repos**\n",
    "\n",
    "\n",
    "- ```git clone URL```  Crea una copia local de un repositorio remoto(URL) en la ubicación actual, incluyendo todo el historial de cambios del repositorio.\n",
    "- ```git init```  Inicializa un nuevo repositorio en el directorio o ubicacion actual (carpeta oculta .git que monitorea cambios en el directorio)"
   ]
  },
  {
   "attachments": {},
   "cell_type": "markdown",
   "metadata": {},
   "source": [
    "#### **Comandos de utilidad para el repo local**\n",
    "\n",
    "- ```git add .```  Agrega todos los cambios en el directorio a la staging area (archivos modificados, borrados y añadidos nuevos)\n",
    "- ```git add nombre_archivo```  Agrega cambios en un archivo o carpeta al staging area (área de preparación) para su confirmación y registro en el historial de commits del repositorio.\n",
    "- ```git add -u```  (--update) Agrega al área de preparación todos los cambios realizados en los archivos que ya estaban siendo rastreados por git (archivos nuevos no)\n",
    "- ```git commit-m \"txt\"```  Confirma los cambios en la staging area y los sube al area del repo local. Importante -m para especificar un titulo descriptivo rapido, si no se abre el editor de texto para escribir una descripcion del commit.\n",
    "- ```git commit -am \"txt\"```  Añade y comfirma cambios a la vez.\n",
    "- ```git status```   Muestra una descripción detallada del estado de cada archivo en el repositorio, incluyendo su ruta, estado (modificado, agregado, eliminado, etc.) y la rama actual.\n",
    "- ```git status -s (small)``` (--short) Muestra una lista resumida del estado de los archivos que han cambiado en el repositorio.\n",
    "- ```git log --oneline```  Muestra el historial de cambios y commits realizados en la rama en la que estamos, asi como su numero identificador."
   ]
  },
  {
   "attachments": {},
   "cell_type": "markdown",
   "metadata": {},
   "source": [
    "#### **Comandos de utilidad para el repo remoto**\n",
    "\n",
    "- ```git pull``` Actualiza la copia local del repo con los cambios más recientes del repositorio remoto (GitHub)\n",
    "- ```git fetch``` Consulta si ha habido cambios en el repositorio remoto, pero no actualiza la copia local.\n",
    "- ```git push``` Envia cambios del repositorio local al remoto (GitHub)\n"
   ]
  },
  {
   "attachments": {},
   "cell_type": "markdown",
   "metadata": {},
   "source": [
    "- ```git branch nombre_rama```  Crea una rama local en el repositorio a partir de la rama actual. Importante situarse en la rama a partir de la que se quiere crear la nueva.\n",
    "- ```git branch -m nombre_nuevo``` (--move) Renombra una rama. Importante estar situado en la rama que se quiere renombrar.\n",
    "- ```git checkout nombre_rama``` o ```git switch nombre_rama``` Cambia de rama.  \n",
    "Se puede ver en que rama estás al final de la ruta entre paréntesis o en VSC barra herramientas a la izquierda. \n",
    "Una vez cambiada la rama todos los commits y acciones que se hagan, se realizarán en la rama especificada.\n",
    "\n",
    "\n",
    "- ```git branch``` : Muestra las ramas locales existentes en el repositorio local. \n",
    "- ```git branch -a``` (--all) Muestra todas las ramas existentes (locales y remotas)\n",
    "- ```git branch -r ``` (--remotes) Muestra ramas remotas.\n",
    "\n",
    "\n",
    "- ```git branch -d nombre_rama``` (--delete) Elimina una rama local. Si hay cambios en la rama que no se han fusionado en otra rama, Git no permitirá la eliminación y mostrará un mensaje de error. \n",
    "- ```git branch -D nombre_rama```  o ```git branch delete--force``` Elimina una rama incluso si hay cambios pendientes en ella\n",
    "- ```git branch --merged``` Muestra las ramas mergeadas en la rama actual..\n",
    "- ```git branch -vv``` (--verbose) Muestra información sobre las ramas locales, incluyendo el último commit realizado en cada rama y el repositorio remoto al que está vinculada la rama\n",
    "\n",
    "- ```git merge rama_a_fusionar``` : Fusiona cambios de una rama con la rama en la que nos encontramos actualmente.  \n",
    "Crea un conflicto que se resuelve con el editor de texto seleccionado por defecto. El uso más común del comando git merge es para fusionar una rama de trabajo en la rama principal (master o main). Para hacerlo, primero se debe asegurar de tener la rama de trabajo actualizada, utilizando el comando git fetch y luego git pull si procede, y después se ejecuta el comando git merge para fusionar los cambios."
   ]
  },
  {
   "attachments": {},
   "cell_type": "markdown",
   "metadata": {},
   "source": [
    "- ```git reset``` o ```git reser --mixed``` Mueve  la rama y sobreescribe la información de la staging area para que refleje el contenido del commit al que se está moviendo, sin afectar el directorio de trabajo.\n",
    "- ```git reset --hard ID``` Borra todos los commits a partir del commit especificado con su numero de identificación y sobreescribe el directorio de trabajo y la staging area. HEAD~2 te posiciona en el penultimo commit.\n",
    "- ```git reset --soft ID``` Mueve la rama al commit especificado. No borra commits posteriores y no sobreescribe el area de trabajo y la staging area. \n",
    "- ```git tag v.1 -m txt``` Crea etiquetas para especificar versiones del codigo.\n",
    "- ```git stash```  https://www.freecodecamp.org/espanol/news/git-stash-explicado/"
   ]
  }
 ],
 "metadata": {
  "language_info": {
   "name": "python"
  },
  "orig_nbformat": 4
 },
 "nbformat": 4,
 "nbformat_minor": 2
}
