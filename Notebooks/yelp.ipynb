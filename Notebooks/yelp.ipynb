{
 "cells": [
  {
   "cell_type": "code",
   "execution_count": 1,
   "metadata": {},
   "outputs": [],
   "source": [
    "client_id = \"5v5CeE42PBFGr0l-fmuClA\"\n",
    "api_key= \"XebaNhK8qbRRa1niztr2koMMLhg4Grek0Sx_jWnayqptZK3ZTYaxfxgl0NxQmgqINpBkZM5ERXel_Wc5M6sFBIJsfpw4NfNu_2s9SrIRZucKZfkUoWqK8n-tMZtkZHYx\""
   ]
  },
  {
   "cell_type": "code",
   "execution_count": 2,
   "metadata": {},
   "outputs": [
    {
     "name": "stdout",
     "output_type": "stream",
     "text": [
      "Collecting yelpapi\n",
      "  Downloading yelpapi-2.5.0-py3-none-any.whl (7.4 kB)\n",
      "Requirement already satisfied: requests in c:\\users\\yporq\\appdata\\roaming\\python\\python39\\site-packages (from yelpapi) (2.28.2)\n",
      "Requirement already satisfied: charset-normalizer<4,>=2 in c:\\users\\yporq\\appdata\\roaming\\python\\python39\\site-packages (from requests->yelpapi) (2.1.1)\n",
      "Requirement already satisfied: idna<4,>=2.5 in c:\\users\\yporq\\appdata\\roaming\\python\\python39\\site-packages (from requests->yelpapi) (3.4)\n",
      "Requirement already satisfied: urllib3<1.27,>=1.21.1 in c:\\users\\yporq\\appdata\\roaming\\python\\python39\\site-packages (from requests->yelpapi) (1.26.14)\n",
      "Requirement already satisfied: certifi>=2017.4.17 in c:\\users\\yporq\\appdata\\roaming\\python\\python39\\site-packages (from requests->yelpapi) (2022.12.7)\n",
      "Installing collected packages: yelpapi\n",
      "Successfully installed yelpapi-2.5.0\n",
      "Note: you may need to restart the kernel to use updated packages.\n"
     ]
    },
    {
     "name": "stderr",
     "output_type": "stream",
     "text": [
      "WARNING: Ignoring invalid distribution - (c:\\python39\\lib\\site-packages)\n",
      "WARNING: Ignoring invalid distribution -ip (c:\\python39\\lib\\site-packages)\n",
      "WARNING: Ignoring invalid distribution - (c:\\python39\\lib\\site-packages)\n",
      "WARNING: Ignoring invalid distribution -ip (c:\\python39\\lib\\site-packages)\n"
     ]
    }
   ],
   "source": [
    "%pip install yelpapi"
   ]
  },
  {
   "cell_type": "code",
   "execution_count": 3,
   "metadata": {},
   "outputs": [],
   "source": [
    "from yelpapi import YelpAPI\n",
    "yelp_api = YelpAPI(api_key)"
   ]
  },
  {
   "cell_type": "code",
   "execution_count": 60,
   "metadata": {},
   "outputs": [
    {
     "data": {
      "text/plain": [
       "dict"
      ]
     },
     "execution_count": 60,
     "metadata": {},
     "output_type": "execute_result"
    }
   ],
   "source": [
    "term = 'La cuenca'\n",
    "location = 'Madrid, Madrid'\n",
    "search_limit = 50\n",
    "response = yelp_api.search_query(term = term,\n",
    "                                 location = location,\n",
    "                                 limit = search_limit)\n",
    "type(response)"
   ]
  },
  {
   "cell_type": "code",
   "execution_count": 61,
   "metadata": {},
   "outputs": [],
   "source": [
    "import pandas as pd"
   ]
  },
  {
   "cell_type": "code",
   "execution_count": 62,
   "metadata": {},
   "outputs": [
    {
     "name": "stderr",
     "output_type": "stream",
     "text": [
      "C:\\Users\\yporq\\AppData\\Local\\Temp\\ipykernel_36056\\3094608432.py:4: FutureWarning: The frame.append method is deprecated and will be removed from pandas in a future version. Use pandas.concat instead.\n",
      "  data = data.append(biz, ignore_index=True)\n",
      "C:\\Users\\yporq\\AppData\\Local\\Temp\\ipykernel_36056\\3094608432.py:4: FutureWarning: The frame.append method is deprecated and will be removed from pandas in a future version. Use pandas.concat instead.\n",
      "  data = data.append(biz, ignore_index=True)\n",
      "C:\\Users\\yporq\\AppData\\Local\\Temp\\ipykernel_36056\\3094608432.py:4: FutureWarning: In a future version, object-dtype columns with all-bool values will not be included in reductions with bool_only=True. Explicitly cast to bool dtype instead.\n",
      "  data = data.append(biz, ignore_index=True)\n",
      "C:\\Users\\yporq\\AppData\\Local\\Temp\\ipykernel_36056\\3094608432.py:4: FutureWarning: The frame.append method is deprecated and will be removed from pandas in a future version. Use pandas.concat instead.\n",
      "  data = data.append(biz, ignore_index=True)\n",
      "C:\\Users\\yporq\\AppData\\Local\\Temp\\ipykernel_36056\\3094608432.py:4: FutureWarning: In a future version, object-dtype columns with all-bool values will not be included in reductions with bool_only=True. Explicitly cast to bool dtype instead.\n",
      "  data = data.append(biz, ignore_index=True)\n",
      "C:\\Users\\yporq\\AppData\\Local\\Temp\\ipykernel_36056\\3094608432.py:4: FutureWarning: The frame.append method is deprecated and will be removed from pandas in a future version. Use pandas.concat instead.\n",
      "  data = data.append(biz, ignore_index=True)\n",
      "C:\\Users\\yporq\\AppData\\Local\\Temp\\ipykernel_36056\\3094608432.py:4: FutureWarning: In a future version, object-dtype columns with all-bool values will not be included in reductions with bool_only=True. Explicitly cast to bool dtype instead.\n",
      "  data = data.append(biz, ignore_index=True)\n"
     ]
    },
    {
     "data": {
      "text/html": [
       "<div>\n",
       "<style scoped>\n",
       "    .dataframe tbody tr th:only-of-type {\n",
       "        vertical-align: middle;\n",
       "    }\n",
       "\n",
       "    .dataframe tbody tr th {\n",
       "        vertical-align: top;\n",
       "    }\n",
       "\n",
       "    .dataframe thead th {\n",
       "        text-align: right;\n",
       "    }\n",
       "</style>\n",
       "<table border=\"1\" class=\"dataframe\">\n",
       "  <thead>\n",
       "    <tr style=\"text-align: right;\">\n",
       "      <th></th>\n",
       "      <th>id</th>\n",
       "      <th>alias</th>\n",
       "      <th>name</th>\n",
       "      <th>image_url</th>\n",
       "      <th>is_closed</th>\n",
       "      <th>url</th>\n",
       "      <th>review_count</th>\n",
       "      <th>categories</th>\n",
       "      <th>rating</th>\n",
       "      <th>coordinates</th>\n",
       "      <th>transactions</th>\n",
       "      <th>price</th>\n",
       "      <th>location</th>\n",
       "      <th>phone</th>\n",
       "      <th>display_phone</th>\n",
       "      <th>distance</th>\n",
       "    </tr>\n",
       "  </thead>\n",
       "  <tbody>\n",
       "    <tr>\n",
       "      <th>0</th>\n",
       "      <td>Z05O3BylQHt5Vesd2P6Nfw</td>\n",
       "      <td>cuenca-club-madrid</td>\n",
       "      <td>Cuenca Club</td>\n",
       "      <td></td>\n",
       "      <td>False</td>\n",
       "      <td>https://www.yelp.com/biz/cuenca-club-madrid?ad...</td>\n",
       "      <td>3</td>\n",
       "      <td>[{'alias': 'danceclubs', 'title': 'Dance Clubs'}]</td>\n",
       "      <td>1.5</td>\n",
       "      <td>{'latitude': 40.4246902, 'longitude': -3.71369}</td>\n",
       "      <td>[]</td>\n",
       "      <td>€</td>\n",
       "      <td>{'address1': 'Calle de Martín de los Heros, 14...</td>\n",
       "      <td></td>\n",
       "      <td></td>\n",
       "      <td>1378.958202</td>\n",
       "    </tr>\n",
       "    <tr>\n",
       "      <th>1</th>\n",
       "      <td>0s0siK2b9A__2gYGNzhtmg</td>\n",
       "      <td>el-paleto-de-cuenca-madrid</td>\n",
       "      <td>El Paleto de Cuenca</td>\n",
       "      <td>https://s3-media4.fl.yelpcdn.com/bphoto/HZ9g1y...</td>\n",
       "      <td>False</td>\n",
       "      <td>https://www.yelp.com/biz/el-paleto-de-cuenca-m...</td>\n",
       "      <td>1</td>\n",
       "      <td>[{'alias': 'butcher', 'title': 'Butcher'}]</td>\n",
       "      <td>5.0</td>\n",
       "      <td>{'latitude': 40.4113639639498, 'longitude': -3...</td>\n",
       "      <td>[]</td>\n",
       "      <td>€€</td>\n",
       "      <td>{'address1': 'Calle del Olmo 39', 'address2': ...</td>\n",
       "      <td></td>\n",
       "      <td></td>\n",
       "      <td>1287.174914</td>\n",
       "    </tr>\n",
       "    <tr>\n",
       "      <th>2</th>\n",
       "      <td>IjOOpQgtXtZ-1thFbZQi1w</td>\n",
       "      <td>cafetería-cuenca-madrid-2</td>\n",
       "      <td>Cafetería Cuenca</td>\n",
       "      <td>https://s3-media1.fl.yelpcdn.com/bphoto/qQIq2F...</td>\n",
       "      <td>False</td>\n",
       "      <td>https://www.yelp.com/biz/cafeter%C3%ADa-cuenca...</td>\n",
       "      <td>2</td>\n",
       "      <td>[{'alias': 'tapas', 'title': 'Tapas Bars'}]</td>\n",
       "      <td>1.5</td>\n",
       "      <td>{'latitude': 40.40691, 'longitude': -3.66906}</td>\n",
       "      <td>[]</td>\n",
       "      <td>NaN</td>\n",
       "      <td>{'address1': 'Avenida del Mediterráneo, 45', '...</td>\n",
       "      <td>+34914094276</td>\n",
       "      <td>+34 914 09 42 76</td>\n",
       "      <td>2998.506214</td>\n",
       "    </tr>\n",
       "    <tr>\n",
       "      <th>3</th>\n",
       "      <td>BO6NT41I_LlMpJaUu0oD8w</td>\n",
       "      <td>la-encantada-madrid-2</td>\n",
       "      <td>La Encantada</td>\n",
       "      <td>https://s3-media2.fl.yelpcdn.com/bphoto/gT_ZPO...</td>\n",
       "      <td>False</td>\n",
       "      <td>https://www.yelp.com/biz/la-encantada-madrid-2...</td>\n",
       "      <td>5</td>\n",
       "      <td>[{'alias': 'tapas', 'title': 'Tapas Bars'}, {'...</td>\n",
       "      <td>5.0</td>\n",
       "      <td>{'latitude': 40.40926, 'longitude': -3.7122}</td>\n",
       "      <td>[]</td>\n",
       "      <td>€€</td>\n",
       "      <td>{'address1': 'Calle Calatrava, 27', 'address2'...</td>\n",
       "      <td>+34911459998</td>\n",
       "      <td>+34 911 45 99 98</td>\n",
       "      <td>1953.218280</td>\n",
       "    </tr>\n",
       "  </tbody>\n",
       "</table>\n",
       "</div>"
      ],
      "text/plain": [
       "                       id                       alias                 name  \\\n",
       "0  Z05O3BylQHt5Vesd2P6Nfw          cuenca-club-madrid          Cuenca Club   \n",
       "1  0s0siK2b9A__2gYGNzhtmg  el-paleto-de-cuenca-madrid  El Paleto de Cuenca   \n",
       "2  IjOOpQgtXtZ-1thFbZQi1w   cafetería-cuenca-madrid-2     Cafetería Cuenca   \n",
       "3  BO6NT41I_LlMpJaUu0oD8w       la-encantada-madrid-2         La Encantada   \n",
       "\n",
       "                                           image_url is_closed  \\\n",
       "0                                                        False   \n",
       "1  https://s3-media4.fl.yelpcdn.com/bphoto/HZ9g1y...     False   \n",
       "2  https://s3-media1.fl.yelpcdn.com/bphoto/qQIq2F...     False   \n",
       "3  https://s3-media2.fl.yelpcdn.com/bphoto/gT_ZPO...     False   \n",
       "\n",
       "                                                 url review_count  \\\n",
       "0  https://www.yelp.com/biz/cuenca-club-madrid?ad...            3   \n",
       "1  https://www.yelp.com/biz/el-paleto-de-cuenca-m...            1   \n",
       "2  https://www.yelp.com/biz/cafeter%C3%ADa-cuenca...            2   \n",
       "3  https://www.yelp.com/biz/la-encantada-madrid-2...            5   \n",
       "\n",
       "                                          categories  rating  \\\n",
       "0  [{'alias': 'danceclubs', 'title': 'Dance Clubs'}]     1.5   \n",
       "1         [{'alias': 'butcher', 'title': 'Butcher'}]     5.0   \n",
       "2        [{'alias': 'tapas', 'title': 'Tapas Bars'}]     1.5   \n",
       "3  [{'alias': 'tapas', 'title': 'Tapas Bars'}, {'...     5.0   \n",
       "\n",
       "                                         coordinates transactions price  \\\n",
       "0    {'latitude': 40.4246902, 'longitude': -3.71369}           []     €   \n",
       "1  {'latitude': 40.4113639639498, 'longitude': -3...           []    €€   \n",
       "2      {'latitude': 40.40691, 'longitude': -3.66906}           []   NaN   \n",
       "3       {'latitude': 40.40926, 'longitude': -3.7122}           []    €€   \n",
       "\n",
       "                                            location         phone  \\\n",
       "0  {'address1': 'Calle de Martín de los Heros, 14...                 \n",
       "1  {'address1': 'Calle del Olmo 39', 'address2': ...                 \n",
       "2  {'address1': 'Avenida del Mediterráneo, 45', '...  +34914094276   \n",
       "3  {'address1': 'Calle Calatrava, 27', 'address2'...  +34911459998   \n",
       "\n",
       "      display_phone     distance  \n",
       "0                    1378.958202  \n",
       "1                    1287.174914  \n",
       "2  +34 914 09 42 76  2998.506214  \n",
       "3  +34 911 45 99 98  1953.218280  "
      ]
     },
     "execution_count": 62,
     "metadata": {},
     "output_type": "execute_result"
    }
   ],
   "source": [
    "cols = list(response['businesses'][0].keys())\n",
    "data = pd.DataFrame(columns=cols)\n",
    "for biz in response['businesses']:\n",
    "    data = data.append(biz, ignore_index=True)\n",
    "data.head()"
   ]
  },
  {
   "cell_type": "code",
   "execution_count": 64,
   "metadata": {},
   "outputs": [
    {
     "data": {
      "text/plain": [
       "'https://www.yelp.com/biz/cuenca-club-madrid?adjust_creative=5v5CeE42PBFGr0l-fmuClA&utm_campaign=yelp_api_v3&utm_medium=api_v3_business_search&utm_source=5v5CeE42PBFGr0l-fmuClA'"
      ]
     },
     "execution_count": 64,
     "metadata": {},
     "output_type": "execute_result"
    }
   ],
   "source": [
    "data.iloc[0].url"
   ]
  },
  {
   "cell_type": "code",
   "execution_count": 17,
   "metadata": {},
   "outputs": [
    {
     "name": "stdout",
     "output_type": "stream",
     "text": [
      "Requirement already satisfied: requests in c:\\users\\yporq\\appdata\\roaming\\python\\python39\\site-packages (2.28.2)\n",
      "Requirement already satisfied: charset-normalizer<4,>=2 in c:\\users\\yporq\\appdata\\roaming\\python\\python39\\site-packages (from requests) (2.1.1)\n",
      "Requirement already satisfied: idna<4,>=2.5 in c:\\users\\yporq\\appdata\\roaming\\python\\python39\\site-packages (from requests) (3.4)\n",
      "Requirement already satisfied: urllib3<1.27,>=1.21.1 in c:\\users\\yporq\\appdata\\roaming\\python\\python39\\site-packages (from requests) (1.26.14)\n",
      "Requirement already satisfied: certifi>=2017.4.17 in c:\\users\\yporq\\appdata\\roaming\\python\\python39\\site-packages (from requests) (2022.12.7)\n",
      "Note: you may need to restart the kernel to use updated packages.\n"
     ]
    },
    {
     "name": "stderr",
     "output_type": "stream",
     "text": [
      "WARNING: Ignoring invalid distribution - (c:\\python39\\lib\\site-packages)\n",
      "WARNING: Ignoring invalid distribution -ip (c:\\python39\\lib\\site-packages)\n",
      "WARNING: Ignoring invalid distribution - (c:\\python39\\lib\\site-packages)\n",
      "WARNING: Ignoring invalid distribution -ip (c:\\python39\\lib\\site-packages)\n"
     ]
    }
   ],
   "source": [
    "%pip install requests\n"
   ]
  },
  {
   "cell_type": "code",
   "execution_count": 32,
   "metadata": {},
   "outputs": [
    {
     "name": "stdout",
     "output_type": "stream",
     "text": [
      "{'businesses': [{'id': 'm-suxON2HwsWYImvTNX1Jw', 'alias': 'botín-madrid-3', 'name': 'Botín', 'image_url': 'https://s3-media2.fl.yelpcdn.com/bphoto/UpGNFadPgTEYPK-d6ksxuQ/o.jpg', 'is_closed': False, 'url': 'https://www.yelp.com/biz/bot%C3%ADn-madrid-3?adjust_creative=5v5CeE42PBFGr0l-fmuClA&utm_campaign=yelp_api_v3&utm_medium=api_v3_business_search&utm_source=5v5CeE42PBFGr0l-fmuClA', 'review_count': 647, 'categories': [{'alias': 'spanish', 'title': 'Spanish'}, {'alias': 'steak', 'title': 'Steakhouses'}], 'rating': 4.0, 'coordinates': {'latitude': 40.41406, 'longitude': -3.70803}, 'transactions': [], 'price': '€€€', 'location': {'address1': 'Calle de Cuchilleros, 17', 'address2': None, 'address3': None, 'city': 'Madrid', 'zip_code': '28005', 'country': 'ES', 'state': 'M', 'display_address': ['Calle de Cuchilleros, 17', '28005 Madrid', 'Spain']}, 'phone': '+34913664217', 'display_phone': '+34 913 66 42 17', 'distance': 1304.2170679660362}, {'id': 'ql9zlnKW4h_efrketA3Mrg', 'alias': 'chocolatería-san-ginés-madrid-6', 'name': 'Chocolatería San Ginés', 'image_url': 'https://s3-media4.fl.yelpcdn.com/bphoto/hwpN-tb20RdF_V8jPlCvyQ/o.jpg', 'is_closed': False, 'url': 'https://www.yelp.com/biz/chocolater%C3%ADa-san-gin%C3%A9s-madrid-6?adjust_creative=5v5CeE42PBFGr0l-fmuClA&utm_campaign=yelp_api_v3&utm_medium=api_v3_business_search&utm_source=5v5CeE42PBFGr0l-fmuClA', 'review_count': 1332, 'categories': [{'alias': 'chocolate', 'title': 'Chocolatiers & Shops'}, {'alias': 'churros', 'title': 'Churros'}, {'alias': 'breakfast_brunch', 'title': 'Breakfast & Brunch'}], 'rating': 4.0, 'coordinates': {'latitude': 40.4167599, 'longitude': -3.7068}, 'transactions': [], 'price': '€', 'location': {'address1': 'Pasadizo de San Ginés, 5', 'address2': '', 'address3': '', 'city': 'Madrid', 'zip_code': '28013', 'country': 'ES', 'state': 'M', 'display_address': ['Pasadizo de San Ginés, 5', '28013 Madrid', 'Spain']}, 'phone': '+34913656546', 'display_phone': '+34 913 65 65 46', 'distance': 1033.188949125327}, {'id': 'afcRqfWrcA1soyoNI__FRQ', 'alias': 'juana-la-loca-madrid-2', 'name': 'Juana la Loca', 'image_url': 'https://s3-media2.fl.yelpcdn.com/bphoto/NgunxElPzdU6f0ktiDoM7A/o.jpg', 'is_closed': False, 'url': 'https://www.yelp.com/biz/juana-la-loca-madrid-2?adjust_creative=5v5CeE42PBFGr0l-fmuClA&utm_campaign=yelp_api_v3&utm_medium=api_v3_business_search&utm_source=5v5CeE42PBFGr0l-fmuClA', 'review_count': 220, 'categories': [{'alias': 'tapasmallplates', 'title': 'Tapas/Small Plates'}, {'alias': 'spanish', 'title': 'Spanish'}], 'rating': 4.5, 'coordinates': {'latitude': 40.4113584, 'longitude': -3.711094}, 'transactions': [], 'price': '€€€', 'location': {'address1': 'Plaza de Puerta de Moros, 4', 'address2': '', 'address3': '', 'city': 'Madrid', 'zip_code': '28005', 'country': 'ES', 'state': 'M', 'display_address': ['Plaza de Puerta de Moros, 4', '28005 Madrid', 'Spain']}, 'phone': '+34913640525', 'display_phone': '+34 913 64 05 25', 'distance': 1715.626437811679}, {'id': 'ObSKa7G0d3mO3eBYPSlPXw', 'alias': 'la-gastro-madrid', 'name': 'La Gastro', 'image_url': 'https://s3-media1.fl.yelpcdn.com/bphoto/9JvcVXExwTNtNjF3tmcc1A/o.jpg', 'is_closed': False, 'url': 'https://www.yelp.com/biz/la-gastro-madrid?adjust_creative=5v5CeE42PBFGr0l-fmuClA&utm_campaign=yelp_api_v3&utm_medium=api_v3_business_search&utm_source=5v5CeE42PBFGr0l-fmuClA', 'review_count': 68, 'categories': [{'alias': 'gastropubs', 'title': 'Gastropubs'}, {'alias': 'spanish', 'title': 'Spanish'}, {'alias': 'tapas', 'title': 'Tapas Bars'}], 'rating': 4.5, 'coordinates': {'latitude': 40.42129, 'longitude': -3.70289}, 'transactions': [], 'price': '€€', 'location': {'address1': 'Calle del Barco, 7', 'address2': '', 'address3': '', 'city': 'Madrid', 'zip_code': '28004', 'country': 'ES', 'state': 'M', 'display_address': ['Calle del Barco, 7', '28004 Madrid', 'Spain']}, 'phone': '+34913642263', 'display_phone': '+34 913 64 22 63', 'distance': 488.7083814997758}, {'id': 'yjGE3mlUOvJfTDZecObTHg', 'alias': 'celso-y-manolo-madrid', 'name': 'Celso y Manolo', 'image_url': 'https://s3-media2.fl.yelpcdn.com/bphoto/xYQ_MCAaJH4bHmWzRIO8Uw/o.jpg', 'is_closed': False, 'url': 'https://www.yelp.com/biz/celso-y-manolo-madrid?adjust_creative=5v5CeE42PBFGr0l-fmuClA&utm_campaign=yelp_api_v3&utm_medium=api_v3_business_search&utm_source=5v5CeE42PBFGr0l-fmuClA', 'review_count': 187, 'categories': [{'alias': 'tapas', 'title': 'Tapas Bars'}, {'alias': 'spanish', 'title': 'Spanish'}], 'rating': 4.5, 'coordinates': {'latitude': 40.420185, 'longitude': -3.6974769}, 'transactions': [], 'price': '€€', 'location': {'address1': 'Calle de la Libertad, 1', 'address2': None, 'address3': '', 'city': 'Madrid', 'zip_code': '28004', 'country': 'ES', 'state': 'M', 'display_address': ['Calle de la Libertad, 1', '28004 Madrid', 'Spain']}, 'phone': '+34915318079', 'display_phone': '+34 915 31 80 79', 'distance': 297.6040361411656}, {'id': 'uHL7ravKYyrTl07fv_hfUg', 'alias': 'rosi-la-loca-madrid', 'name': 'Rosi La Loca', 'image_url': 'https://s3-media3.fl.yelpcdn.com/bphoto/SN6sHZ3lOLs4rLEMBPoMkQ/o.jpg', 'is_closed': False, 'url': 'https://www.yelp.com/biz/rosi-la-loca-madrid?adjust_creative=5v5CeE42PBFGr0l-fmuClA&utm_campaign=yelp_api_v3&utm_medium=api_v3_business_search&utm_source=5v5CeE42PBFGr0l-fmuClA', 'review_count': 194, 'categories': [{'alias': 'tapas', 'title': 'Tapas Bars'}, {'alias': 'spanish', 'title': 'Spanish'}], 'rating': 4.5, 'coordinates': {'latitude': 40.4158141746249, 'longitude': -3.70297881289753}, 'transactions': [], 'price': '€€€', 'location': {'address1': 'Calle de Cádiz, 4', 'address2': '', 'address3': '', 'city': 'Madrid', 'zip_code': '28012', 'country': 'ES', 'state': 'M', 'display_address': ['Calle de Cádiz, 4', '28012 Madrid', 'Spain']}, 'phone': '+34915326681', 'display_phone': '+34 915 32 66 81', 'distance': 906.7764467348135}, {'id': 'S-Md-BF6C53iB2OlB5BCww', 'alias': 'casa-lucas-madrid', 'name': 'Casa Lucas', 'image_url': 'https://s3-media4.fl.yelpcdn.com/bphoto/xqe6MvFLV0HEbE_M4pvwhA/o.jpg', 'is_closed': False, 'url': 'https://www.yelp.com/biz/casa-lucas-madrid?adjust_creative=5v5CeE42PBFGr0l-fmuClA&utm_campaign=yelp_api_v3&utm_medium=api_v3_business_search&utm_source=5v5CeE42PBFGr0l-fmuClA', 'review_count': 157, 'categories': [{'alias': 'tapas', 'title': 'Tapas Bars'}, {'alias': 'wine_bars', 'title': 'Wine Bars'}], 'rating': 4.5, 'coordinates': {'latitude': 40.412325, 'longitude': -3.709429}, 'transactions': [], 'price': '€€', 'location': {'address1': 'Calle de la Cava Baja, 30', 'address2': '', 'address3': '', 'city': 'Madrid', 'zip_code': '28005', 'country': 'ES', 'state': 'M', 'display_address': ['Calle de la Cava Baja, 30', '28005 Madrid', 'Spain']}, 'phone': '+34913650804', 'display_phone': '+34 913 65 08 04', 'distance': 1541.9081259234936}, {'id': 'mdRx656CrCvPnBCrNMFLpQ', 'alias': 'lakasa-madrid-5', 'name': 'Lakasa', 'image_url': 'https://s3-media4.fl.yelpcdn.com/bphoto/raOce94EiIG3x_zQE2UdlA/o.jpg', 'is_closed': False, 'url': 'https://www.yelp.com/biz/lakasa-madrid-5?adjust_creative=5v5CeE42PBFGr0l-fmuClA&utm_campaign=yelp_api_v3&utm_medium=api_v3_business_search&utm_source=5v5CeE42PBFGr0l-fmuClA', 'review_count': 50, 'categories': [{'alias': 'spanish', 'title': 'Spanish'}, {'alias': 'signature_cuisine', 'title': 'Signature Cuisine'}], 'rating': 5.0, 'coordinates': {'latitude': 40.440875, 'longitude': -3.700715}, 'transactions': [], 'price': '€€', 'location': {'address1': 'Plaza del Descubridor Diego de Ordás, 1', 'address2': '', 'address3': '', 'city': 'Madrid', 'zip_code': '28003', 'country': 'ES', 'state': 'M', 'display_address': ['Plaza del Descubridor Diego de Ordás, 1', '28003 Madrid', 'Spain']}, 'phone': '+34915338715', 'display_phone': '+34 915 33 87 15', 'distance': 2020.5902312080937}, {'id': 'iNtK9yWv7wOXaPai3uAv-g', 'alias': 'inclan-brutal-madrid', 'name': 'InClan Brutal', 'image_url': 'https://s3-media3.fl.yelpcdn.com/bphoto/qnACZF6n1EPH4hxd5XiVPQ/o.jpg', 'is_closed': False, 'url': 'https://www.yelp.com/biz/inclan-brutal-madrid?adjust_creative=5v5CeE42PBFGr0l-fmuClA&utm_campaign=yelp_api_v3&utm_medium=api_v3_business_search&utm_source=5v5CeE42PBFGr0l-fmuClA', 'review_count': 171, 'categories': [{'alias': 'tapas', 'title': 'Tapas Bars'}, {'alias': 'mediterranean', 'title': 'Mediterranean'}], 'rating': 4.5, 'coordinates': {'latitude': 40.41508, 'longitude': -3.70192}, 'transactions': [], 'price': '€€', 'location': {'address1': 'Calle Álvarez Gato, 4', 'address2': '', 'address3': '', 'city': 'Madrid', 'zip_code': '28012', 'country': 'ES', 'state': 'M', 'display_address': ['Calle Álvarez Gato, 4', '28012 Madrid', 'Spain']}, 'phone': '+34910238038', 'display_phone': '+34 910 23 80 38', 'distance': 944.8598012897551}, {'id': 'rQSFuKAyrkZtRRdOnJglJQ', 'alias': 'el-sur-madrid', 'name': 'El Sur', 'image_url': 'https://s3-media4.fl.yelpcdn.com/bphoto/jwbA1VhURId5DHktZgl_3A/o.jpg', 'is_closed': False, 'url': 'https://www.yelp.com/biz/el-sur-madrid?adjust_creative=5v5CeE42PBFGr0l-fmuClA&utm_campaign=yelp_api_v3&utm_medium=api_v3_business_search&utm_source=5v5CeE42PBFGr0l-fmuClA', 'review_count': 792, 'categories': [{'alias': 'tapas', 'title': 'Tapas Bars'}], 'rating': 4.5, 'coordinates': {'latitude': 40.4110475, 'longitude': -3.6995454}, 'transactions': [], 'price': '€€', 'location': {'address1': 'Calle de la Torrecilla del Leal, 12', 'address2': '', 'address3': '', 'city': 'Madrid', 'zip_code': '28012', 'country': 'ES', 'state': 'M', 'display_address': ['Calle de la Torrecilla del Leal, 12', '28012 Madrid', 'Spain']}, 'phone': '+34915278340', 'display_phone': '+34 915 27 83 40', 'distance': 1323.9351440693945}, {'id': 'QLHWLpQKr4j4GD3jXr-NOQ', 'alias': 'cacao-restobar-madrid', 'name': 'Cacao Restobar', 'image_url': 'https://s3-media2.fl.yelpcdn.com/bphoto/4pPzoP8sAiXkQf9Dc7SIeg/o.jpg', 'is_closed': False, 'url': 'https://www.yelp.com/biz/cacao-restobar-madrid?adjust_creative=5v5CeE42PBFGr0l-fmuClA&utm_campaign=yelp_api_v3&utm_medium=api_v3_business_search&utm_source=5v5CeE42PBFGr0l-fmuClA', 'review_count': 106, 'categories': [{'alias': 'mediterranean', 'title': 'Mediterranean'}, {'alias': 'venezuelan', 'title': 'Venezuelan'}, {'alias': 'wine_bars', 'title': 'Wine Bars'}], 'rating': 5.0, 'coordinates': {'latitude': 40.4124, 'longitude': -3.69703}, 'transactions': [], 'price': '€€', 'location': {'address1': 'Calle de Moratin, 19', 'address2': None, 'address3': '', 'city': 'Madrid', 'zip_code': '28014', 'country': 'ES', 'state': 'M', 'display_address': ['Calle de Moratin, 19', '28014 Madrid', 'Spain']}, 'phone': '+34910529634', 'display_phone': '+34 910 52 96 34', 'distance': 1153.1748236808419}, {'id': 'gdFMBW7pQtHTe6HYazCC6w', 'alias': 'ten-con-ten-madrid', 'name': 'Ten con Ten', 'image_url': 'https://s3-media2.fl.yelpcdn.com/bphoto/kfmmQ0_bpqioyMxRPiKKgQ/o.jpg', 'is_closed': False, 'url': 'https://www.yelp.com/biz/ten-con-ten-madrid?adjust_creative=5v5CeE42PBFGr0l-fmuClA&utm_campaign=yelp_api_v3&utm_medium=api_v3_business_search&utm_source=5v5CeE42PBFGr0l-fmuClA', 'review_count': 175, 'categories': [{'alias': 'modern_european', 'title': 'Modern European'}], 'rating': 4.5, 'coordinates': {'latitude': 40.42795714, 'longitude': -3.68870527}, 'transactions': [], 'price': '€€€', 'location': {'address1': 'Calle de Ayala, 6', 'address2': '', 'address3': '', 'city': 'Madrid', 'zip_code': '28001', 'country': 'ES', 'state': 'M', 'display_address': ['Calle de Ayala, 6', '28001 Madrid', 'Spain']}, 'phone': '+34915759254', 'display_phone': '+34 915 75 92 54', 'distance': 916.5451719749216}, {'id': 'YpNh_7mig6NPm0o5nLRHiw', 'alias': 'la-mi-venta-madrid', 'name': 'La Mi Venta', 'image_url': 'https://s3-media1.fl.yelpcdn.com/bphoto/l_lP74i4eETX8d6v4JnJSQ/o.jpg', 'is_closed': False, 'url': 'https://www.yelp.com/biz/la-mi-venta-madrid?adjust_creative=5v5CeE42PBFGr0l-fmuClA&utm_campaign=yelp_api_v3&utm_medium=api_v3_business_search&utm_source=5v5CeE42PBFGr0l-fmuClA', 'review_count': 106, 'categories': [{'alias': 'spanish', 'title': 'Spanish'}, {'alias': 'steak', 'title': 'Steakhouses'}], 'rating': 4.5, 'coordinates': {'latitude': 40.4204554916193, 'longitude': -3.71240258216858}, 'transactions': [], 'price': '€€€', 'location': {'address1': 'Plaza de la Marina Española, 7', 'address2': None, 'address3': None, 'city': 'Madrid', 'zip_code': '28013', 'country': 'ES', 'state': 'M', 'display_address': ['Plaza de la Marina Española, 7', '28013 Madrid', 'Spain']}, 'phone': '+34915595091', 'display_phone': '+34 915 59 50 91', 'distance': 1282.4301695469583}, {'id': 'xoOCxe2kUFflzGPciSbrPg', 'alias': 'angelita-madrid-2', 'name': 'Angelita', 'image_url': 'https://s3-media2.fl.yelpcdn.com/bphoto/zeWQ9JQIJWMAWBwM_83EoA/o.jpg', 'is_closed': False, 'url': 'https://www.yelp.com/biz/angelita-madrid-2?adjust_creative=5v5CeE42PBFGr0l-fmuClA&utm_campaign=yelp_api_v3&utm_medium=api_v3_business_search&utm_source=5v5CeE42PBFGr0l-fmuClA', 'review_count': 30, 'categories': [{'alias': 'spanish', 'title': 'Spanish'}, {'alias': 'wine_bars', 'title': 'Wine Bars'}, {'alias': 'cocktailbars', 'title': 'Cocktail Bars'}], 'rating': 5.0, 'coordinates': {'latitude': 40.420276, 'longitude': -3.700387}, 'transactions': [], 'price': '€€€', 'location': {'address1': 'Calle de la Reina, 4', 'address2': '', 'address3': '', 'city': 'Madrid', 'zip_code': '28004', 'country': 'ES', 'state': 'M', 'display_address': ['Calle de la Reina, 4', '28004 Madrid', 'Spain']}, 'phone': '+34915216678', 'display_phone': '+34 915 21 66 78', 'distance': 372.5374556274898}, {'id': 'KLYRrWbU1u4_-D88hHdMpQ', 'alias': 'cardamomo-tablao-flamenco-madrid-2', 'name': 'Cardamomo Tablao Flamenco', 'image_url': 'https://s3-media3.fl.yelpcdn.com/bphoto/WZZV9k1aCbh21hoeV3IlHg/o.jpg', 'is_closed': False, 'url': 'https://www.yelp.com/biz/cardamomo-tablao-flamenco-madrid-2?adjust_creative=5v5CeE42PBFGr0l-fmuClA&utm_campaign=yelp_api_v3&utm_medium=api_v3_business_search&utm_source=5v5CeE42PBFGr0l-fmuClA', 'review_count': 102, 'categories': [{'alias': 'spanish', 'title': 'Spanish'}, {'alias': 'tablaoflamenco', 'title': 'Tablao Flamenco'}], 'rating': 4.5, 'coordinates': {'latitude': 40.4154635, 'longitude': -3.6995421}, 'transactions': [], 'price': '€€', 'location': {'address1': 'Calle de Echegaray, 15', 'address2': '', 'address3': '', 'city': 'Madrid', 'zip_code': '28014', 'country': 'ES', 'state': 'M', 'display_address': ['Calle de Echegaray, 15', '28014 Madrid', 'Spain']}, 'phone': '+34918051038', 'display_phone': '+34 918 05 10 38', 'distance': 838.9703385770974}, {'id': 'AME0oQ6PR-2x-mYga5zFUA', 'alias': 'triciclo-madrid', 'name': 'TriCiclo', 'image_url': 'https://s3-media3.fl.yelpcdn.com/bphoto/VXNxpz_jyP5Nu6GGoezvbA/o.jpg', 'is_closed': False, 'url': 'https://www.yelp.com/biz/triciclo-madrid?adjust_creative=5v5CeE42PBFGr0l-fmuClA&utm_campaign=yelp_api_v3&utm_medium=api_v3_business_search&utm_source=5v5CeE42PBFGr0l-fmuClA', 'review_count': 86, 'categories': [{'alias': 'tapas', 'title': 'Tapas Bars'}, {'alias': 'spanish', 'title': 'Spanish'}, {'alias': 'modern_european', 'title': 'Modern European'}], 'rating': 4.5, 'coordinates': {'latitude': 40.41287, 'longitude': -3.69724}, 'transactions': [], 'price': '€€€', 'location': {'address1': 'Calle Santa María, 28', 'address2': '', 'address3': '', 'city': 'Madrid', 'zip_code': '28014', 'country': 'ES', 'state': 'M', 'display_address': ['Calle Santa María, 28', '28014 Madrid', 'Spain']}, 'phone': '+34910244798', 'display_phone': '+34 910 24 47 98', 'distance': 1113.567883221019}, {'id': '_QcePqv29bSWGWB1WjclOw', 'alias': 'sala-de-despiece-madrid-2', 'name': 'Sala de Despiece', 'image_url': 'https://s3-media3.fl.yelpcdn.com/bphoto/tjnNlK16FUrW-WSm7eh1OA/o.jpg', 'is_closed': False, 'url': 'https://www.yelp.com/biz/sala-de-despiece-madrid-2?adjust_creative=5v5CeE42PBFGr0l-fmuClA&utm_campaign=yelp_api_v3&utm_medium=api_v3_business_search&utm_source=5v5CeE42PBFGr0l-fmuClA', 'review_count': 84, 'categories': [{'alias': 'gastropubs', 'title': 'Gastropubs'}, {'alias': 'tapas', 'title': 'Tapas Bars'}, {'alias': 'tabernas', 'title': 'Tabernas'}], 'rating': 4.5, 'coordinates': {'latitude': 40.437931, 'longitude': -3.699483}, 'transactions': [], 'price': '€€', 'location': {'address1': 'Calle de Ponzano, 11', 'address2': '', 'address3': '', 'city': 'Madrid', 'zip_code': '28010', 'country': 'ES', 'state': 'M', 'display_address': ['Calle de Ponzano, 11', '28010 Madrid', 'Spain']}, 'phone': '+34917526106', 'display_phone': '+34 917 52 61 06', 'distance': 1683.4764313951682}, {'id': '4QwMZ2xsZg3QeliIKztoUw', 'alias': 'tinto-y-tapas-madrid', 'name': 'Tinto y Tapas', 'image_url': 'https://s3-media4.fl.yelpcdn.com/bphoto/x2f0FfUuVnVoKtkIttkH3w/o.jpg', 'is_closed': False, 'url': 'https://www.yelp.com/biz/tinto-y-tapas-madrid?adjust_creative=5v5CeE42PBFGr0l-fmuClA&utm_campaign=yelp_api_v3&utm_medium=api_v3_business_search&utm_source=5v5CeE42PBFGr0l-fmuClA', 'review_count': 165, 'categories': [{'alias': 'tapas', 'title': 'Tapas Bars'}, {'alias': 'wine_bars', 'title': 'Wine Bars'}, {'alias': 'tabernas', 'title': 'Tabernas'}], 'rating': 4.5, 'coordinates': {'latitude': 40.4109993, 'longitude': -3.6943901}, 'transactions': [], 'price': '€', 'location': {'address1': 'Calle de Almadén, 14', 'address2': '', 'address3': '', 'city': 'Madrid', 'zip_code': '28014', 'country': 'ES', 'state': 'M', 'display_address': ['Calle de Almadén, 14', '28014 Madrid', 'Spain']}, 'phone': '+34910711457', 'display_phone': '+34 910 71 14 57', 'distance': 1359.515311571784}, {'id': 'JdV562meOXm5YzGqExdfdQ', 'alias': 'salmón-gurú-madrid', 'name': 'Salmón Gurú', 'image_url': 'https://s3-media1.fl.yelpcdn.com/bphoto/GrEpMpZ3QhGlskh8lsdiJQ/o.jpg', 'is_closed': False, 'url': 'https://www.yelp.com/biz/salm%C3%B3n-gur%C3%BA-madrid?adjust_creative=5v5CeE42PBFGr0l-fmuClA&utm_campaign=yelp_api_v3&utm_medium=api_v3_business_search&utm_source=5v5CeE42PBFGr0l-fmuClA', 'review_count': 75, 'categories': [{'alias': 'cocktailbars', 'title': 'Cocktail Bars'}, {'alias': 'gastropubs', 'title': 'Gastropubs'}], 'rating': 4.5, 'coordinates': {'latitude': 40.414924, 'longitude': -3.699517}, 'transactions': [], 'price': '€€', 'location': {'address1': 'Calle de Echegaray, 21', 'address2': '', 'address3': None, 'city': 'Madrid', 'zip_code': '28014', 'country': 'ES', 'state': 'M', 'display_address': ['Calle de Echegaray, 21', '28014 Madrid', 'Spain']}, 'phone': '+34910006185', 'display_phone': '+34 910 00 61 85', 'distance': 897.4686148736581}, {'id': 'yhuVt7Rv35rKqKKzWwt3RQ', 'alias': 'kuoco-360-madrid', 'name': 'Kuoco 360', 'image_url': 'https://s3-media4.fl.yelpcdn.com/bphoto/UYJutprcBumE_sbPbTnyeA/o.jpg', 'is_closed': False, 'url': 'https://www.yelp.com/biz/kuoco-360-madrid?adjust_creative=5v5CeE42PBFGr0l-fmuClA&utm_campaign=yelp_api_v3&utm_medium=api_v3_business_search&utm_source=5v5CeE42PBFGr0l-fmuClA', 'review_count': 29, 'categories': [{'alias': 'spanish', 'title': 'Spanish'}, {'alias': 'latin', 'title': 'Latin American'}, {'alias': 'asianfusion', 'title': 'Asian Fusion'}], 'rating': 5.0, 'coordinates': {'latitude': 40.42194, 'longitude': -3.69838}, 'transactions': [], 'location': {'address1': 'Calle de San Bartolomé, 14', 'address2': '', 'address3': None, 'city': 'Madrid', 'zip_code': '28004', 'country': 'ES', 'state': 'M', 'display_address': ['Calle de San Bartolomé, 14', '28004 Madrid', 'Spain']}, 'phone': '+34911995377', 'display_phone': '+34 911 99 53 77', 'distance': 121.28811308933986}, {'id': 'Hn7-q6opT1g7ZJoZ9ZpjzA', 'alias': 'metro-bistro-madrid-5', 'name': 'Metro Bistro', 'image_url': 'https://s3-media2.fl.yelpcdn.com/bphoto/uDgvjX7B0XO6pAjdhpExWg/o.jpg', 'is_closed': False, 'url': 'https://www.yelp.com/biz/metro-bistro-madrid-5?adjust_creative=5v5CeE42PBFGr0l-fmuClA&utm_campaign=yelp_api_v3&utm_medium=api_v3_business_search&utm_source=5v5CeE42PBFGr0l-fmuClA', 'review_count': 34, 'categories': [{'alias': 'mediterranean', 'title': 'Mediterranean'}, {'alias': 'spanish', 'title': 'Spanish'}, {'alias': 'signature_cuisine', 'title': 'Signature Cuisine'}], 'rating': 4.5, 'coordinates': {'latitude': 40.414641, 'longitude': -3.706778}, 'transactions': [], 'price': '€€', 'location': {'address1': 'Calle Imperial, 3', 'address2': '', 'address3': '', 'city': 'Madrid', 'zip_code': '28012', 'country': 'ES', 'state': 'M', 'display_address': ['Calle Imperial, 3', '28012 Madrid', 'Spain']}, 'phone': '+34913663319', 'display_phone': '+34 913 66 33 19', 'distance': 1200.3220522010038}, {'id': 'l4Y3Qmb510T_hbGzc3WG5g', 'alias': 'carmencita-madrid', 'name': 'Carmencita', 'image_url': 'https://s3-media3.fl.yelpcdn.com/bphoto/FkyLcJlMFXAUlC_83O5AZw/o.jpg', 'is_closed': False, 'url': 'https://www.yelp.com/biz/carmencita-madrid?adjust_creative=5v5CeE42PBFGr0l-fmuClA&utm_campaign=yelp_api_v3&utm_medium=api_v3_business_search&utm_source=5v5CeE42PBFGr0l-fmuClA', 'review_count': 156, 'categories': [{'alias': 'modern_european', 'title': 'Modern European'}, {'alias': 'breakfast_brunch', 'title': 'Breakfast & Brunch'}], 'rating': 4.5, 'coordinates': {'latitude': 40.426088, 'longitude': -3.707439}, 'transactions': [], 'price': '€€', 'location': {'address1': 'Calle San Vicente Ferrer 57', 'address2': '', 'address3': '', 'city': 'Madrid', 'zip_code': '28015', 'country': 'ES', 'state': 'M', 'display_address': ['Calle San Vicente Ferrer 57', '28015 Madrid', 'Spain']}, 'phone': '+34910003890', 'display_phone': '+34 910 00 38 90', 'distance': 907.9863770759232}, {'id': '8HLV4ooL9txOjJmmCW0Jng', 'alias': 'diurno-madrid-2', 'name': 'Diurno', 'image_url': 'https://s3-media2.fl.yelpcdn.com/bphoto/yKopJuoLTw_pdYg-YbgjTA/o.jpg', 'is_closed': False, 'url': 'https://www.yelp.com/biz/diurno-madrid-2?adjust_creative=5v5CeE42PBFGr0l-fmuClA&utm_campaign=yelp_api_v3&utm_medium=api_v3_business_search&utm_source=5v5CeE42PBFGr0l-fmuClA', 'review_count': 73, 'categories': [{'alias': 'breakfast_brunch', 'title': 'Breakfast & Brunch'}, {'alias': 'modern_european', 'title': 'Modern European'}, {'alias': 'gastropubs', 'title': 'Gastropubs'}], 'rating': 4.0, 'coordinates': {'latitude': 40.42123, 'longitude': -3.69717}, 'transactions': [], 'price': '€€', 'location': {'address1': 'Calle de San Marcos, 37', 'address2': '', 'address3': '', 'city': 'Madrid', 'zip_code': '28004', 'country': 'ES', 'state': 'M', 'display_address': ['Calle de San Marcos, 37', '28004 Madrid', 'Spain']}, 'phone': '+34915220009', 'display_phone': '+34 915 22 00 09', 'distance': 181.88790341618449}, {'id': 'DTplWHr6x0wWkoYNc7ZFuA', 'alias': 'la-malontina-madrid', 'name': 'La Malontina', 'image_url': 'https://s3-media3.fl.yelpcdn.com/bphoto/z05SU0y_M0ahOgXNkP-NMw/o.jpg', 'is_closed': False, 'url': 'https://www.yelp.com/biz/la-malontina-madrid?adjust_creative=5v5CeE42PBFGr0l-fmuClA&utm_campaign=yelp_api_v3&utm_medium=api_v3_business_search&utm_source=5v5CeE42PBFGr0l-fmuClA', 'review_count': 112, 'categories': [{'alias': 'modern_european', 'title': 'Modern European'}], 'rating': 4.5, 'coordinates': {'latitude': 40.41177, 'longitude': -3.69542}, 'transactions': [], 'price': '€€', 'location': {'address1': 'Calle Verónica, 4', 'address2': '', 'address3': '', 'city': 'Madrid', 'zip_code': '28014', 'country': 'ES', 'state': 'M', 'display_address': ['Calle Verónica, 4', '28014 Madrid', 'Spain']}, 'phone': '+34914203108', 'display_phone': '+34 914 20 31 08', 'distance': 1248.3906705753072}, {'id': '9KJiiAskHcFVonfVEf-olA', 'alias': 'ojalá-madrid-4', 'name': 'Ojalá', 'image_url': 'https://s3-media3.fl.yelpcdn.com/bphoto/Yqws2Gj8igA6iHkcPIjADg/o.jpg', 'is_closed': False, 'url': 'https://www.yelp.com/biz/ojal%C3%A1-madrid-4?adjust_creative=5v5CeE42PBFGr0l-fmuClA&utm_campaign=yelp_api_v3&utm_medium=api_v3_business_search&utm_source=5v5CeE42PBFGr0l-fmuClA', 'review_count': 140, 'categories': [{'alias': 'lounges', 'title': 'Lounges'}, {'alias': 'mediterranean', 'title': 'Mediterranean'}, {'alias': 'breakfast_brunch', 'title': 'Breakfast & Brunch'}], 'rating': 4.0, 'coordinates': {'latitude': 40.425511976945, 'longitude': -3.7039805741253}, 'transactions': [], 'price': '€€', 'location': {'address1': 'Calle San Andrés, 1', 'address2': '', 'address3': '', 'city': 'Madrid', 'zip_code': '28004', 'country': 'ES', 'state': 'M', 'display_address': ['Calle San Andrés, 1', '28004 Madrid', 'Spain']}, 'phone': '+34915232747', 'display_phone': '+34 915 23 27 47', 'distance': 616.393600199533}, {'id': 'uWHzcrNJcKyZieccwwFB_Q', 'alias': 'bacira-madrid', 'name': 'Bacira', 'image_url': 'https://s3-media2.fl.yelpcdn.com/bphoto/aHvHD03SYBgutgGDjwKzkA/o.jpg', 'is_closed': False, 'url': 'https://www.yelp.com/biz/bacira-madrid?adjust_creative=5v5CeE42PBFGr0l-fmuClA&utm_campaign=yelp_api_v3&utm_medium=api_v3_business_search&utm_source=5v5CeE42PBFGr0l-fmuClA', 'review_count': 20, 'categories': [{'alias': 'spanish', 'title': 'Spanish'}, {'alias': 'asianfusion', 'title': 'Asian Fusion'}], 'rating': 5.0, 'coordinates': {'latitude': 40.43391466, 'longitude': -3.69916856}, 'transactions': [], 'price': '€€€', 'location': {'address1': 'Calle del Castillo, 16', 'address2': '', 'address3': '', 'city': 'Madrid', 'zip_code': '28010', 'country': 'ES', 'state': 'M', 'display_address': ['Calle del Castillo, 16', '28010 Madrid', 'Spain']}, 'phone': '+34918664030', 'display_phone': '+34 918 66 40 30', 'distance': 1236.4830164150453}, {'id': 'zdmuktDbomXeE_x07aRk4A', 'alias': 'street-xo-madrid-2', 'name': 'Street Xo', 'image_url': 'https://s3-media2.fl.yelpcdn.com/bphoto/-61fEEwji-AFQ7EelPAVuA/o.jpg', 'is_closed': False, 'url': 'https://www.yelp.com/biz/street-xo-madrid-2?adjust_creative=5v5CeE42PBFGr0l-fmuClA&utm_campaign=yelp_api_v3&utm_medium=api_v3_business_search&utm_source=5v5CeE42PBFGr0l-fmuClA', 'review_count': 98, 'categories': [{'alias': 'gastropubs', 'title': 'Gastropubs'}, {'alias': 'asianfusion', 'title': 'Asian Fusion'}, {'alias': 'spanish', 'title': 'Spanish'}], 'rating': 4.0, 'coordinates': {'latitude': 40.427645, 'longitude': -3.687092}, 'transactions': [], 'price': '€€€', 'location': {'address1': 'Calle de Serrano, 52', 'address2': '', 'address3': '', 'city': 'Madrid', 'zip_code': '28001', 'country': 'ES', 'state': 'M', 'display_address': ['Calle de Serrano, 52', '28001 Madrid', 'Spain']}, 'phone': '+34915319884', 'display_phone': '+34 915 31 98 84', 'distance': 1035.445088896326}, {'id': 'XS-U9aXfbbye5rgFx56x-g', 'alias': 'el-club-allard-madrid', 'name': 'El Club Allard', 'image_url': 'https://s3-media1.fl.yelpcdn.com/bphoto/jusjSP0VWeZ2V8-FHg-elw/o.jpg', 'is_closed': False, 'url': 'https://www.yelp.com/biz/el-club-allard-madrid?adjust_creative=5v5CeE42PBFGr0l-fmuClA&utm_campaign=yelp_api_v3&utm_medium=api_v3_business_search&utm_source=5v5CeE42PBFGr0l-fmuClA', 'review_count': 28, 'categories': [{'alias': 'modern_european', 'title': 'Modern European'}, {'alias': 'signature_cuisine', 'title': 'Signature Cuisine'}], 'rating': 5.0, 'coordinates': {'latitude': 40.4231399, 'longitude': -3.71421}, 'transactions': [], 'price': '€€€€', 'location': {'address1': 'Calle de Ferraz, 2', 'address2': None, 'address3': None, 'city': 'Madrid', 'zip_code': '28008', 'country': 'ES', 'state': 'M', 'display_address': ['Calle de Ferraz, 2', '28008 Madrid', 'Spain']}, 'phone': '+34915590939', 'display_phone': '+34 915 59 09 39', 'distance': 1413.8517312386657}, {'id': 'yhd4UzBFydMizG6MMLjF6w', 'alias': 'food-truck-madrid-2', 'name': 'Food Truck', 'image_url': 'https://s3-media1.fl.yelpcdn.com/bphoto/RfDa4fRNLD5DuJ3TwdlWlA/o.jpg', 'is_closed': False, 'url': 'https://www.yelp.com/biz/food-truck-madrid-2?adjust_creative=5v5CeE42PBFGr0l-fmuClA&utm_campaign=yelp_api_v3&utm_medium=api_v3_business_search&utm_source=5v5CeE42PBFGr0l-fmuClA', 'review_count': 33, 'categories': [{'alias': 'tradamerican', 'title': 'American (Traditional)'}, {'alias': 'burgers', 'title': 'Burgers'}], 'rating': 4.5, 'coordinates': {'latitude': 40.42375, 'longitude': -3.69618}, 'transactions': [], 'price': '€€', 'location': {'address1': 'Calle San Lucas, 11', 'address2': '', 'address3': '', 'city': 'Madrid', 'zip_code': '28004', 'country': 'ES', 'state': 'M', 'display_address': ['Calle San Lucas, 11', '28004 Madrid', 'Spain']}, 'phone': '+34911893696', 'display_phone': '+34 911 89 36 96', 'distance': 156.68651580601073}, {'id': 'uEN5YpsKnPJlqj-OGhffbw', 'alias': 'restaurante-corral-de-la-moreria-madrid', 'name': 'Restaurante Corral de la Moreria', 'image_url': 'https://s3-media3.fl.yelpcdn.com/bphoto/0T_OOSmbku0SxM1r5Qmg2A/o.jpg', 'is_closed': False, 'url': 'https://www.yelp.com/biz/restaurante-corral-de-la-moreria-madrid?adjust_creative=5v5CeE42PBFGr0l-fmuClA&utm_campaign=yelp_api_v3&utm_medium=api_v3_business_search&utm_source=5v5CeE42PBFGr0l-fmuClA', 'review_count': 80, 'categories': [{'alias': 'spanish', 'title': 'Spanish'}, {'alias': 'tapas', 'title': 'Tapas Bars'}], 'rating': 4.5, 'coordinates': {'latitude': 40.412714, 'longitude': -3.714275}, 'transactions': [], 'price': '€€€', 'location': {'address1': 'Calle de la Moreria, 17', 'address2': None, 'address3': None, 'city': 'Madrid', 'zip_code': '28005', 'country': 'ES', 'state': 'M', 'display_address': ['Calle de la Moreria, 17', '28005 Madrid', 'Spain']}, 'phone': '+34913658446', 'display_phone': '+34 913 65 84 46', 'distance': 1808.015439505858}, {'id': 'P7jgHbiB7acn2DgIO-JxEA', 'alias': 'la-barraca-madrid', 'name': 'La Barraca', 'image_url': 'https://s3-media2.fl.yelpcdn.com/bphoto/6epe5HRmNJznJmYA5fjG9g/o.jpg', 'is_closed': False, 'url': 'https://www.yelp.com/biz/la-barraca-madrid?adjust_creative=5v5CeE42PBFGr0l-fmuClA&utm_campaign=yelp_api_v3&utm_medium=api_v3_business_search&utm_source=5v5CeE42PBFGr0l-fmuClA', 'review_count': 165, 'categories': [{'alias': 'spanish', 'title': 'Spanish'}], 'rating': 4.0, 'coordinates': {'latitude': 40.41998, 'longitude': -3.69878}, 'transactions': [], 'price': '€€€', 'location': {'address1': 'Calle de la Reina, 29', 'address2': '', 'address3': '', 'city': 'Madrid', 'zip_code': '28004', 'country': 'ES', 'state': 'M', 'display_address': ['Calle de la Reina, 29', '28004 Madrid', 'Spain']}, 'phone': '+34915327154', 'display_phone': '+34 915 32 71 54', 'distance': 329.2472918025594}, {'id': '3h8FZefVHohejIQ_h_XpCw', 'alias': 'casa-benigna-madrid', 'name': 'Casa Benigna', 'image_url': 'https://s3-media2.fl.yelpcdn.com/bphoto/tbpiqnDkAshi2LiU9CMs3Q/o.jpg', 'is_closed': False, 'url': 'https://www.yelp.com/biz/casa-benigna-madrid?adjust_creative=5v5CeE42PBFGr0l-fmuClA&utm_campaign=yelp_api_v3&utm_medium=api_v3_business_search&utm_source=5v5CeE42PBFGr0l-fmuClA', 'review_count': 61, 'categories': [{'alias': 'arroceria_paella', 'title': 'Arroceria / Paella'}], 'rating': 4.5, 'coordinates': {'latitude': 40.448094, 'longitude': -3.6743163}, 'transactions': [], 'price': '€€€', 'location': {'address1': 'Calle Benigno Soto, 9', 'address2': None, 'address3': None, 'city': 'Madrid', 'zip_code': '28002', 'country': 'ES', 'state': 'M', 'display_address': ['Calle Benigno Soto, 9', '28002 Madrid', 'Spain']}, 'phone': '+34914133356', 'display_phone': '+34 914 13 33 56', 'distance': 3428.0555477450434}, {'id': '9Z5erguQFll7SZ4nLshfzQ', 'alias': 'la-tasqueria-madrid-3', 'name': 'La Tasqueria', 'image_url': 'https://s3-media2.fl.yelpcdn.com/bphoto/71cLsfRuUN6tw0yUixEDOw/o.jpg', 'is_closed': False, 'url': 'https://www.yelp.com/biz/la-tasqueria-madrid-3?adjust_creative=5v5CeE42PBFGr0l-fmuClA&utm_campaign=yelp_api_v3&utm_medium=api_v3_business_search&utm_source=5v5CeE42PBFGr0l-fmuClA', 'review_count': 22, 'categories': [{'alias': 'spanish', 'title': 'Spanish'}, {'alias': 'mediterranean', 'title': 'Mediterranean'}], 'rating': 5.0, 'coordinates': {'latitude': 40.422279, 'longitude': -3.67374}, 'transactions': [], 'price': '€€€', 'location': {'address1': 'Calle Duque de Sesto, 48', 'address2': '', 'address3': '', 'city': 'Madrid', 'zip_code': '28009', 'country': 'ES', 'state': 'M', 'display_address': ['Calle Duque de Sesto, 48', '28009 Madrid', 'Spain']}, 'phone': '+34914511000', 'display_phone': '+34 914 51 10 00', 'distance': 2019.6198202824544}, {'id': 'Vpb_ZPYmn25rlgzXvMladQ', 'alias': 'la-cabaña-argentina-madrid-2', 'name': 'La Cabaña Argentina', 'image_url': 'https://s3-media1.fl.yelpcdn.com/bphoto/a-EUqjQFXg6yR6jJpLUvTA/o.jpg', 'is_closed': False, 'url': 'https://www.yelp.com/biz/la-caba%C3%B1a-argentina-madrid-2?adjust_creative=5v5CeE42PBFGr0l-fmuClA&utm_campaign=yelp_api_v3&utm_medium=api_v3_business_search&utm_source=5v5CeE42PBFGr0l-fmuClA', 'review_count': 68, 'categories': [{'alias': 'argentine', 'title': 'Argentine'}, {'alias': 'steak', 'title': 'Steakhouses'}], 'rating': 4.5, 'coordinates': {'latitude': 40.4157422, 'longitude': -3.6990175}, 'transactions': [], 'price': '€€€', 'location': {'address1': 'Calle de Ventura de la Vega, 10', 'address2': '', 'address3': '', 'city': 'Madrid', 'zip_code': '28014', 'country': 'ES', 'state': 'M', 'display_address': ['Calle de Ventura de la Vega, 10', '28014 Madrid', 'Spain']}, 'phone': '+34913697202', 'display_phone': '+34 913 69 72 02', 'distance': 800.69952884229}, {'id': 'TcdveB9OIdUOid9xrYleKg', 'alias': 'hanan-madrid', 'name': 'Hanan', 'image_url': 'https://s3-media2.fl.yelpcdn.com/bphoto/vLWR1wY6tamFRSyzSJAR7A/o.jpg', 'is_closed': False, 'url': 'https://www.yelp.com/biz/hanan-madrid?adjust_creative=5v5CeE42PBFGr0l-fmuClA&utm_campaign=yelp_api_v3&utm_medium=api_v3_business_search&utm_source=5v5CeE42PBFGr0l-fmuClA', 'review_count': 58, 'categories': [{'alias': 'african', 'title': 'African'}, {'alias': 'ethiopian', 'title': 'Ethiopian'}], 'rating': 4.5, 'coordinates': {'latitude': 40.4258837, 'longitude': -3.7133699}, 'transactions': [], 'price': '€€', 'location': {'address1': 'Calle Ventura Rodríguez, 3', 'address2': '', 'address3': '', 'city': 'Madrid', 'zip_code': '28008', 'country': 'ES', 'state': 'M', 'display_address': ['Calle Ventura Rodríguez, 3', '28008 Madrid', 'Spain']}, 'phone': '+34915489929', 'display_phone': '+34 915 48 99 29', 'distance': 1377.7289141305512}, {'id': 'ZIYLcIOrhGGHt-YoWFj_Iw', 'alias': 'el-mesón-del-champiñón-madrid-3', 'name': 'El Mesón del Champiñón', 'image_url': 'https://s3-media3.fl.yelpcdn.com/bphoto/Mi51STd0wYCzWKB2lJ4K-Q/o.jpg', 'is_closed': False, 'url': 'https://www.yelp.com/biz/el-mes%C3%B3n-del-champi%C3%B1%C3%B3n-madrid-3?adjust_creative=5v5CeE42PBFGr0l-fmuClA&utm_campaign=yelp_api_v3&utm_medium=api_v3_business_search&utm_source=5v5CeE42PBFGr0l-fmuClA', 'review_count': 102, 'categories': [{'alias': 'spanish', 'title': 'Spanish'}, {'alias': 'tapas', 'title': 'Tapas Bars'}], 'rating': 4.5, 'coordinates': {'latitude': 40.415006, 'longitude': -3.708161}, 'transactions': [], 'price': '€€', 'location': {'address1': 'Calle Cava de San Miguel, 17', 'address2': '', 'address3': '', 'city': 'Madrid', 'zip_code': '28005', 'country': 'ES', 'state': 'M', 'display_address': ['Calle Cava de San Miguel, 17', '28005 Madrid', 'Spain']}, 'phone': '+34915596790', 'display_phone': '+34 915 59 67 90', 'distance': 1250.6586473168054}, {'id': 'yfAkzxyhNlJvuXbrPAvd5w', 'alias': 'el-barril-madrid-5', 'name': 'El Barril', 'image_url': 'https://s3-media1.fl.yelpcdn.com/bphoto/BQP51fMvigeH4QVuWW_S-g/o.jpg', 'is_closed': False, 'url': 'https://www.yelp.com/biz/el-barril-madrid-5?adjust_creative=5v5CeE42PBFGr0l-fmuClA&utm_campaign=yelp_api_v3&utm_medium=api_v3_business_search&utm_source=5v5CeE42PBFGr0l-fmuClA', 'review_count': 21, 'categories': [{'alias': 'spanish', 'title': 'Spanish'}, {'alias': 'seafood', 'title': 'Seafood'}], 'rating': 5.0, 'coordinates': {'latitude': 40.42199, 'longitude': -3.69023}, 'transactions': [], 'price': '€€€', 'location': {'address1': 'Calle Recoletos, 9', 'address2': None, 'address3': None, 'city': 'Madrid', 'zip_code': '28001', 'country': 'ES', 'state': 'M', 'display_address': ['Calle Recoletos, 9', '28001 Madrid', 'Spain']}, 'phone': '+34914361101', 'display_phone': '+34 914 36 11 01', 'distance': 630.0871640719441}, {'id': 'uqBOHaIpdPvUkB0Gb6NZ1w', 'alias': 'el-paraguas-madrid', 'name': 'El Paraguas', 'image_url': 'https://s3-media3.fl.yelpcdn.com/bphoto/AlXKZBdm659SkFDTfFqOfA/o.jpg', 'is_closed': False, 'url': 'https://www.yelp.com/biz/el-paraguas-madrid?adjust_creative=5v5CeE42PBFGr0l-fmuClA&utm_campaign=yelp_api_v3&utm_medium=api_v3_business_search&utm_source=5v5CeE42PBFGr0l-fmuClA', 'review_count': 55, 'categories': [{'alias': 'spanish', 'title': 'Spanish'}, {'alias': 'asturian', 'title': 'Asturian'}], 'rating': 4.5, 'coordinates': {'latitude': 40.4237396136235, 'longitude': -3.68582059325423}, 'transactions': [], 'price': '€€€', 'location': {'address1': 'Calle de Jorge Juan, 16', 'address2': '', 'address3': '', 'city': 'Madrid', 'zip_code': '28001', 'country': 'ES', 'state': 'M', 'display_address': ['Calle de Jorge Juan, 16', '28001 Madrid', 'Spain']}, 'phone': '+34914315950', 'display_phone': '+34 914 31 59 50', 'distance': 1000.7340234001426}, {'id': 'l4I13zxKVulwaRCZdylirg', 'alias': 'la-musa-madrid', 'name': 'La Musa', 'image_url': 'https://s3-media1.fl.yelpcdn.com/bphoto/aiXijsWdsJDxHcpib3lf7g/o.jpg', 'is_closed': False, 'url': 'https://www.yelp.com/biz/la-musa-madrid?adjust_creative=5v5CeE42PBFGr0l-fmuClA&utm_campaign=yelp_api_v3&utm_medium=api_v3_business_search&utm_source=5v5CeE42PBFGr0l-fmuClA', 'review_count': 92, 'categories': [{'alias': 'bars', 'title': 'Bars'}, {'alias': 'mediterranean', 'title': 'Mediterranean'}, {'alias': 'breakfast_brunch', 'title': 'Breakfast & Brunch'}], 'rating': 4.5, 'coordinates': {'latitude': 40.42879, 'longitude': -3.70439}, 'transactions': [], 'price': '€', 'location': {'address1': 'Calle de Manuela Malasaña, 18', 'address2': '', 'address3': '', 'city': 'Madrid', 'zip_code': '28004', 'country': 'ES', 'state': 'M', 'display_address': ['Calle de Manuela Malasaña, 18', '28004 Madrid', 'Spain']}, 'phone': '+34914487558', 'display_phone': '+34 914 48 75 58', 'distance': 879.5762832075253}, {'id': 'thuACGCnGuoSNIbs8lIzUw', 'alias': 'zenith-madrid-3', 'name': 'Zenith', 'image_url': 'https://s3-media2.fl.yelpcdn.com/bphoto/0vbrKGAvYZWKdmoaV6X07w/o.jpg', 'is_closed': False, 'url': 'https://www.yelp.com/biz/zenith-madrid-3?adjust_creative=5v5CeE42PBFGr0l-fmuClA&utm_campaign=yelp_api_v3&utm_medium=api_v3_business_search&utm_source=5v5CeE42PBFGr0l-fmuClA', 'review_count': 44, 'categories': [{'alias': 'breakfast_brunch', 'title': 'Breakfast & Brunch'}, {'alias': 'cocktailbars', 'title': 'Cocktail Bars'}], 'rating': 4.5, 'coordinates': {'latitude': 40.42235, 'longitude': -3.7016}, 'transactions': [], 'location': {'address1': 'Calle de Valverde, 28', 'address2': None, 'address3': '', 'city': 'Madrid', 'zip_code': '28004', 'country': 'ES', 'state': 'M', 'display_address': ['Calle de Valverde, 28', '28004 Madrid', 'Spain']}, 'phone': '+34912124299', 'display_phone': '+34 912 12 42 99', 'distance': 330.30348687855644}, {'id': 'h9eayrBj9q1RClB4IOQMTQ', 'alias': 'alhambra-madrid-3', 'name': 'Alhambra', 'image_url': 'https://s3-media3.fl.yelpcdn.com/bphoto/X_Mg5SeKdWKfvkqPf2LnRw/o.jpg', 'is_closed': False, 'url': 'https://www.yelp.com/biz/alhambra-madrid-3?adjust_creative=5v5CeE42PBFGr0l-fmuClA&utm_campaign=yelp_api_v3&utm_medium=api_v3_business_search&utm_source=5v5CeE42PBFGr0l-fmuClA', 'review_count': 453, 'categories': [{'alias': 'spanish', 'title': 'Spanish'}, {'alias': 'tapasmallplates', 'title': 'Tapas/Small Plates'}], 'rating': 4.0, 'coordinates': {'latitude': 40.41587, 'longitude': -3.7016}, 'transactions': [], 'price': '€€', 'location': {'address1': 'Calle de la Victoria, 9', 'address2': '', 'address3': '', 'city': 'Madrid', 'zip_code': '28012', 'country': 'ES', 'state': 'M', 'display_address': ['Calle de la Victoria, 9', '28012 Madrid', 'Spain']}, 'phone': '+34915210708', 'display_phone': '+34 915 21 07 08', 'distance': 847.3790987480967}, {'id': 'QeYzzJtGQPSFkg44qQQtog', 'alias': 'vinoteca-moratín-madrid-2', 'name': 'Vinoteca Moratín', 'image_url': 'https://s3-media1.fl.yelpcdn.com/bphoto/SCR4kSj7f7kJGoKVYrRL-A/o.jpg', 'is_closed': False, 'url': 'https://www.yelp.com/biz/vinoteca-morat%C3%ADn-madrid-2?adjust_creative=5v5CeE42PBFGr0l-fmuClA&utm_campaign=yelp_api_v3&utm_medium=api_v3_business_search&utm_source=5v5CeE42PBFGr0l-fmuClA', 'review_count': 34, 'categories': [{'alias': 'spanish', 'title': 'Spanish'}, {'alias': 'french', 'title': 'French'}, {'alias': 'gastropubs', 'title': 'Gastropubs'}], 'rating': 5.0, 'coordinates': {'latitude': 40.4125214, 'longitude': -3.69541}, 'transactions': [], 'price': '€€€', 'location': {'address1': 'Calle de Moratín, 36', 'address2': '', 'address3': '', 'city': 'Madrid', 'zip_code': '28014', 'country': 'ES', 'state': 'M', 'display_address': ['Calle de Moratín, 36', '28014 Madrid', 'Spain']}, 'phone': '+34911276085', 'display_phone': '+34 911 27 60 85', 'distance': 1168.8084348720095}, {'id': 'sWm_TPypavbikw_LHRN3-w', 'alias': 'la-pescadería-madrid', 'name': 'La Pescadería', 'image_url': 'https://s3-media4.fl.yelpcdn.com/bphoto/aBYuOBwMlv_7vaJgV-60Hg/o.jpg', 'is_closed': False, 'url': 'https://www.yelp.com/biz/la-pescader%C3%ADa-madrid?adjust_creative=5v5CeE42PBFGr0l-fmuClA&utm_campaign=yelp_api_v3&utm_medium=api_v3_business_search&utm_source=5v5CeE42PBFGr0l-fmuClA', 'review_count': 56, 'categories': [{'alias': 'modern_european', 'title': 'Modern European'}], 'rating': 4.0, 'coordinates': {'latitude': 40.4229102, 'longitude': -3.7032366}, 'transactions': [], 'price': '€€', 'location': {'address1': 'Calle de la Ballesta, 32', 'address2': '', 'address3': '', 'city': 'Madrid', 'zip_code': '28004', 'country': 'ES', 'state': 'M', 'display_address': ['Calle de la Ballesta, 32', '28004 Madrid', 'Spain']}, 'phone': '+34915239051', 'display_phone': '+34 915 23 90 51', 'distance': 478.35240163608233}, {'id': 'ppcgLlJAuaqEPR3Bdqk3UA', 'alias': 'revoltosa-madrid', 'name': 'Revoltosa', 'image_url': 'https://s3-media1.fl.yelpcdn.com/bphoto/hD6HoMq4EMtF1yp7oWmEYA/o.jpg', 'is_closed': False, 'url': 'https://www.yelp.com/biz/revoltosa-madrid?adjust_creative=5v5CeE42PBFGr0l-fmuClA&utm_campaign=yelp_api_v3&utm_medium=api_v3_business_search&utm_source=5v5CeE42PBFGr0l-fmuClA', 'review_count': 75, 'categories': [{'alias': 'divebars', 'title': 'Dive Bars'}, {'alias': 'tapas', 'title': 'Tapas Bars'}], 'rating': 4.0, 'coordinates': {'latitude': 40.4204870765782, 'longitude': -3.695966}, 'transactions': [], 'price': '€€', 'location': {'address1': 'Plaza del Rey, 4', 'address2': '', 'address3': '', 'city': 'Madrid', 'zip_code': '28004', 'country': 'ES', 'state': 'M', 'display_address': ['Plaza del Rey, 4', '28004 Madrid', 'Spain']}, 'phone': '+34915319096', 'display_phone': '+34 915 31 90 96', 'distance': 297.3813482164241}, {'id': 'kn1xJTpGqE07p2fL5rnRaw', 'alias': 'casa-lucio-madrid', 'name': 'Casa Lucio', 'image_url': 'https://s3-media4.fl.yelpcdn.com/bphoto/VmcfmYZT706VQ2JO_37a6A/o.jpg', 'is_closed': False, 'url': 'https://www.yelp.com/biz/casa-lucio-madrid?adjust_creative=5v5CeE42PBFGr0l-fmuClA&utm_campaign=yelp_api_v3&utm_medium=api_v3_business_search&utm_source=5v5CeE42PBFGr0l-fmuClA', 'review_count': 79, 'categories': [{'alias': 'spanish', 'title': 'Spanish'}, {'alias': 'basque', 'title': 'Basque'}], 'rating': 4.0, 'coordinates': {'latitude': 40.412065, 'longitude': -3.709717}, 'transactions': [], 'price': '€€€', 'location': {'address1': 'Calle de la Cava Baja, 35', 'address2': None, 'address3': None, 'city': 'Madrid', 'zip_code': '28005', 'country': 'ES', 'state': 'M', 'display_address': ['Calle de la Cava Baja, 35', '28005 Madrid', 'Spain']}, 'phone': '+34913653252', 'display_phone': '+34 913 65 32 52', 'distance': 1579.7273356088454}, {'id': 'V0_N9qIq8FoSvq9VgWviag', 'alias': 'la-tita-rivera-madrid', 'name': 'La Tita Rivera', 'image_url': 'https://s3-media2.fl.yelpcdn.com/bphoto/NF5Hg2wP9vh1lnHd09xdbQ/o.jpg', 'is_closed': False, 'url': 'https://www.yelp.com/biz/la-tita-rivera-madrid?adjust_creative=5v5CeE42PBFGr0l-fmuClA&utm_campaign=yelp_api_v3&utm_medium=api_v3_business_search&utm_source=5v5CeE42PBFGr0l-fmuClA', 'review_count': 69, 'categories': [{'alias': 'spanish', 'title': 'Spanish'}], 'rating': 4.0, 'coordinates': {'latitude': 40.42243, 'longitude': -3.70047}, 'transactions': [], 'price': '€€', 'location': {'address1': 'Calle de Pérez Galdós, 4', 'address2': '', 'address3': '', 'city': 'Madrid', 'zip_code': '28004', 'country': 'ES', 'state': 'M', 'display_address': ['Calle de Pérez Galdós, 4', '28004 Madrid', 'Spain']}, 'phone': '+34915221890', 'display_phone': '+34 915 22 18 90', 'distance': 246.25771311002447}, {'id': 'E0_VqkEnY0NGV3LsuV_KXA', 'alias': 'pizzaiolo-madrid', 'name': 'Pizzaiolo', 'image_url': 'https://s3-media3.fl.yelpcdn.com/bphoto/YCCIO1GLmriiIspA6K6JwA/o.jpg', 'is_closed': False, 'url': 'https://www.yelp.com/biz/pizzaiolo-madrid?adjust_creative=5v5CeE42PBFGr0l-fmuClA&utm_campaign=yelp_api_v3&utm_medium=api_v3_business_search&utm_source=5v5CeE42PBFGr0l-fmuClA', 'review_count': 115, 'categories': [{'alias': 'italian', 'title': 'Italian'}, {'alias': 'pizza', 'title': 'Pizza'}], 'rating': 4.5, 'coordinates': {'latitude': 40.42375, 'longitude': -3.69851}, 'transactions': [], 'price': '€€', 'location': {'address1': 'Calle de Hortaleza, 84', 'address2': None, 'address3': None, 'city': 'Madrid', 'zip_code': '28004', 'country': 'ES', 'state': 'M', 'display_address': ['Calle de Hortaleza, 84', '28004 Madrid', 'Spain']}, 'phone': '+34913192964', 'display_phone': '+34 913 19 29 64', 'distance': 127.1759631338847}, {'id': 'Hj6vYa6iuLXFNUp-NkQGmQ', 'alias': 'goiko-grill-madrid', 'name': 'Goiko Grill', 'image_url': 'https://s3-media4.fl.yelpcdn.com/bphoto/Grb4NFvSihd6Lxyjpfi6rA/o.jpg', 'is_closed': False, 'url': 'https://www.yelp.com/biz/goiko-grill-madrid?adjust_creative=5v5CeE42PBFGr0l-fmuClA&utm_campaign=yelp_api_v3&utm_medium=api_v3_business_search&utm_source=5v5CeE42PBFGr0l-fmuClA', 'review_count': 72, 'categories': [{'alias': 'burgers', 'title': 'Burgers'}, {'alias': 'tradamerican', 'title': 'American (Traditional)'}, {'alias': 'cafeteria', 'title': 'Cafeteria'}], 'rating': 4.5, 'coordinates': {'latitude': 40.437668, 'longitude': -3.686709}, 'transactions': [], 'price': '€', 'location': {'address1': 'Calle de María de Molina, 20', 'address2': '', 'address3': '', 'city': 'Madrid', 'zip_code': '28006', 'country': 'ES', 'state': 'M', 'display_address': ['Calle de María de Molina, 20', '28006 Madrid', 'Spain']}, 'phone': '+34910609936', 'display_phone': '+34 910 60 99 36', 'distance': 1886.4628184569287}, {'id': 'y-jhUg0_wnbQGndrtq2Fyg', 'alias': 'la-gabinoteca-madrid', 'name': 'La Gabinoteca', 'image_url': 'https://s3-media3.fl.yelpcdn.com/bphoto/jEP4EGuTpXNzAMPypuREcw/o.jpg', 'is_closed': False, 'url': 'https://www.yelp.com/biz/la-gabinoteca-madrid?adjust_creative=5v5CeE42PBFGr0l-fmuClA&utm_campaign=yelp_api_v3&utm_medium=api_v3_business_search&utm_source=5v5CeE42PBFGr0l-fmuClA', 'review_count': 63, 'categories': [{'alias': 'spanish', 'title': 'Spanish'}, {'alias': 'modern_european', 'title': 'Modern European'}], 'rating': 4.0, 'coordinates': {'latitude': 40.4389675822825, 'longitude': -3.69478945691141}, 'transactions': [], 'price': '€€', 'location': {'address1': 'Calle de Fernández de la Hoz, 53', 'address2': '', 'address3': '', 'city': 'Madrid', 'zip_code': '28003', 'country': 'ES', 'state': 'M', 'display_address': ['Calle de Fernández de la Hoz, 53', '28003 Madrid', 'Spain']}, 'phone': '+34913991500', 'display_phone': '+34 913 99 15 00', 'distance': 1806.638620386957}, {'id': 'md_Wfx4tPnRleAaoTaN_9w', 'alias': 'bodega-de-la-ardosa-madrid', 'name': 'Bodega de la Ardosa', 'image_url': 'https://s3-media3.fl.yelpcdn.com/bphoto/FaPwQGCygjmKlgYwfkdjhw/o.jpg', 'is_closed': False, 'url': 'https://www.yelp.com/biz/bodega-de-la-ardosa-madrid?adjust_creative=5v5CeE42PBFGr0l-fmuClA&utm_campaign=yelp_api_v3&utm_medium=api_v3_business_search&utm_source=5v5CeE42PBFGr0l-fmuClA', 'review_count': 125, 'categories': [{'alias': 'wine_bars', 'title': 'Wine Bars'}, {'alias': 'beerbar', 'title': 'Beer Bar'}, {'alias': 'tapasmallplates', 'title': 'Tapas/Small Plates'}], 'rating': 4.0, 'coordinates': {'latitude': 40.42375, 'longitude': -3.70182}, 'transactions': [], 'price': '€€', 'location': {'address1': 'Calle de Colón, 13', 'address2': '', 'address3': '', 'city': 'Madrid', 'zip_code': '28004', 'country': 'ES', 'state': 'M', 'display_address': ['Calle de Colón, 13', '28004 Madrid', 'Spain']}, 'phone': '+34915214979', 'display_phone': '+34 915 21 49 79', 'distance': 371.17219437757063}], 'total': 7800, 'region': {'center': {'longitude': -3.6975860595703125, 'latitude': 40.42286012989007}}}\n",
      "Name: Botín, Rating: 4.0, Address: Calle de Cuchilleros, 17, 28005 Madrid, Spain\n",
      "Name: Chocolatería San Ginés, Rating: 4.0, Address: Pasadizo de San Ginés, 5, 28013 Madrid, Spain\n",
      "Name: Juana la Loca, Rating: 4.5, Address: Plaza de Puerta de Moros, 4, 28005 Madrid, Spain\n",
      "Name: La Gastro, Rating: 4.5, Address: Calle del Barco, 7, 28004 Madrid, Spain\n",
      "Name: Celso y Manolo, Rating: 4.5, Address: Calle de la Libertad, 1, 28004 Madrid, Spain\n",
      "Name: Rosi La Loca, Rating: 4.5, Address: Calle de Cádiz, 4, 28012 Madrid, Spain\n",
      "Name: Casa Lucas, Rating: 4.5, Address: Calle de la Cava Baja, 30, 28005 Madrid, Spain\n",
      "Name: Lakasa, Rating: 5.0, Address: Plaza del Descubridor Diego de Ordás, 1, 28003 Madrid, Spain\n",
      "Name: InClan Brutal, Rating: 4.5, Address: Calle Álvarez Gato, 4, 28012 Madrid, Spain\n",
      "Name: El Sur, Rating: 4.5, Address: Calle de la Torrecilla del Leal, 12, 28012 Madrid, Spain\n",
      "Name: Cacao Restobar, Rating: 5.0, Address: Calle de Moratin, 19, 28014 Madrid, Spain\n",
      "Name: Ten con Ten, Rating: 4.5, Address: Calle de Ayala, 6, 28001 Madrid, Spain\n",
      "Name: La Mi Venta, Rating: 4.5, Address: Plaza de la Marina Española, 7, 28013 Madrid, Spain\n",
      "Name: Angelita, Rating: 5.0, Address: Calle de la Reina, 4, 28004 Madrid, Spain\n",
      "Name: Cardamomo Tablao Flamenco, Rating: 4.5, Address: Calle de Echegaray, 15, 28014 Madrid, Spain\n",
      "Name: TriCiclo, Rating: 4.5, Address: Calle Santa María, 28, 28014 Madrid, Spain\n",
      "Name: Sala de Despiece, Rating: 4.5, Address: Calle de Ponzano, 11, 28010 Madrid, Spain\n",
      "Name: Tinto y Tapas, Rating: 4.5, Address: Calle de Almadén, 14, 28014 Madrid, Spain\n",
      "Name: Salmón Gurú, Rating: 4.5, Address: Calle de Echegaray, 21, 28014 Madrid, Spain\n",
      "Name: Kuoco 360, Rating: 5.0, Address: Calle de San Bartolomé, 14, 28004 Madrid, Spain\n",
      "Name: Metro Bistro, Rating: 4.5, Address: Calle Imperial, 3, 28012 Madrid, Spain\n",
      "Name: Carmencita, Rating: 4.5, Address: Calle San Vicente Ferrer 57, 28015 Madrid, Spain\n",
      "Name: Diurno, Rating: 4.0, Address: Calle de San Marcos, 37, 28004 Madrid, Spain\n",
      "Name: La Malontina, Rating: 4.5, Address: Calle Verónica, 4, 28014 Madrid, Spain\n",
      "Name: Ojalá, Rating: 4.0, Address: Calle San Andrés, 1, 28004 Madrid, Spain\n",
      "Name: Bacira, Rating: 5.0, Address: Calle del Castillo, 16, 28010 Madrid, Spain\n",
      "Name: Street Xo, Rating: 4.0, Address: Calle de Serrano, 52, 28001 Madrid, Spain\n",
      "Name: El Club Allard, Rating: 5.0, Address: Calle de Ferraz, 2, 28008 Madrid, Spain\n",
      "Name: Food Truck, Rating: 4.5, Address: Calle San Lucas, 11, 28004 Madrid, Spain\n",
      "Name: Restaurante Corral de la Moreria, Rating: 4.5, Address: Calle de la Moreria, 17, 28005 Madrid, Spain\n",
      "Name: La Barraca, Rating: 4.0, Address: Calle de la Reina, 29, 28004 Madrid, Spain\n",
      "Name: Casa Benigna, Rating: 4.5, Address: Calle Benigno Soto, 9, 28002 Madrid, Spain\n",
      "Name: La Tasqueria, Rating: 5.0, Address: Calle Duque de Sesto, 48, 28009 Madrid, Spain\n",
      "Name: La Cabaña Argentina, Rating: 4.5, Address: Calle de Ventura de la Vega, 10, 28014 Madrid, Spain\n",
      "Name: Hanan, Rating: 4.5, Address: Calle Ventura Rodríguez, 3, 28008 Madrid, Spain\n",
      "Name: El Mesón del Champiñón, Rating: 4.5, Address: Calle Cava de San Miguel, 17, 28005 Madrid, Spain\n",
      "Name: El Barril, Rating: 5.0, Address: Calle Recoletos, 9, 28001 Madrid, Spain\n",
      "Name: El Paraguas, Rating: 4.5, Address: Calle de Jorge Juan, 16, 28001 Madrid, Spain\n",
      "Name: La Musa, Rating: 4.5, Address: Calle de Manuela Malasaña, 18, 28004 Madrid, Spain\n",
      "Name: Zenith, Rating: 4.5, Address: Calle de Valverde, 28, 28004 Madrid, Spain\n",
      "Name: Alhambra, Rating: 4.0, Address: Calle de la Victoria, 9, 28012 Madrid, Spain\n",
      "Name: Vinoteca Moratín, Rating: 5.0, Address: Calle de Moratín, 36, 28014 Madrid, Spain\n",
      "Name: La Pescadería, Rating: 4.0, Address: Calle de la Ballesta, 32, 28004 Madrid, Spain\n",
      "Name: Revoltosa, Rating: 4.0, Address: Plaza del Rey, 4, 28004 Madrid, Spain\n",
      "Name: Casa Lucio, Rating: 4.0, Address: Calle de la Cava Baja, 35, 28005 Madrid, Spain\n",
      "Name: La Tita Rivera, Rating: 4.0, Address: Calle de Pérez Galdós, 4, 28004 Madrid, Spain\n",
      "Name: Pizzaiolo, Rating: 4.5, Address: Calle de Hortaleza, 84, 28004 Madrid, Spain\n",
      "Name: Goiko Grill, Rating: 4.5, Address: Calle de María de Molina, 20, 28006 Madrid, Spain\n",
      "Name: La Gabinoteca, Rating: 4.0, Address: Calle de Fernández de la Hoz, 53, 28003 Madrid, Spain\n",
      "Name: Bodega de la Ardosa, Rating: 4.0, Address: Calle de Colón, 13, 28004 Madrid, Spain\n"
     ]
    }
   ],
   "source": [
    "url = 'https://api.yelp.com/v3/businesses/search'\n",
    "params = {\n",
    "    'location': 'Madrid',\n",
    "    'categories': 'restaurants',\n",
    "    'limit': 50  # Number of results to retrieve (max is 50)\n",
    "}\n",
    "headers = {\n",
    "    'Authorization': 'Bearer ' + api_key\n",
    "}\n",
    "\n",
    "# Send GET request to the API\n",
    "response = requests.get(url, headers=headers, params=params)\n",
    "\n",
    "# Parse the JSON response\n",
    "data = response.json()\n",
    "print(data)\n",
    "# Extract and process restaurants\n",
    "restaurants = data['businesses']\n",
    "for restaurant in restaurants:\n",
    "    name = restaurant['name']\n",
    "    rating = restaurant['rating']    \n",
    "    address = ', '.join(restaurant['location']['display_address'])\n",
    "    \n",
    "    print(f\"Name: {name}, Rating: {rating}, Address: {address}\")"
   ]
  },
  {
   "cell_type": "code",
   "execution_count": 51,
   "metadata": {},
   "outputs": [],
   "source": [
    "for business in restaurants:\n",
    "    business_id = business['id']\n",
    "    name = business['name']\n",
    "    \n",
    "    # Make the API call to retrieve reviews for the current business\n",
    "    reviews_response = yelp_api.business_query(id=business_id,fields=\"description\")\n",
    "    \n",
    "    # Extract the reviews from the response\n",
    "    if(hasattr(reviews_response, 'description')):\n",
    "        descripcion = reviews_response['description']\n",
    "        \n",
    "        # Process and print the reviews\n",
    "        print(f\"Reviews for {descripcion}:\")\n",
    "        for review in descripcion:\n",
    "            \n",
    "            \n",
    "            business_response = yelp_api.business_query(id=business_id)\n",
    "        \n",
    "            # Extract the snippet text or description from the response\n",
    "            snippet_text = business_response['description']\n",
    "            \n",
    "            # Print the snippet text or description\n",
    "            print(f\"Snippet text for {name}: {snippet_text}\")\n",
    "        \n",
    "            print(f\"Rating: {rating}\")\n",
    "            print(f\"Review text: {review}\")\n",
    "            print()"
   ]
  }
 ],
 "metadata": {
  "kernelspec": {
   "display_name": "Python 3",
   "language": "python",
   "name": "python3"
  },
  "language_info": {
   "codemirror_mode": {
    "name": "ipython",
    "version": 3
   },
   "file_extension": ".py",
   "mimetype": "text/x-python",
   "name": "python",
   "nbconvert_exporter": "python",
   "pygments_lexer": "ipython3",
   "version": "3.9.2"
  },
  "orig_nbformat": 4
 },
 "nbformat": 4,
 "nbformat_minor": 2
}
