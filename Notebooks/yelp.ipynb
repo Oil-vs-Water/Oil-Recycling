{
 "cells": [
  {
   "cell_type": "code",
   "execution_count": 117,
   "metadata": {},
   "outputs": [
    {
     "name": "stdout",
     "output_type": "stream",
     "text": [
      "Requirement already satisfied: yelpapi in c:\\python39\\lib\\site-packages (2.5.0)\n",
      "Requirement already satisfied: requests in c:\\users\\yporq\\appdata\\roaming\\python\\python39\\site-packages (from yelpapi) (2.28.2)\n",
      "Requirement already satisfied: charset-normalizer<4,>=2 in c:\\users\\yporq\\appdata\\roaming\\python\\python39\\site-packages (from requests->yelpapi) (2.1.1)\n",
      "Requirement already satisfied: idna<4,>=2.5 in c:\\users\\yporq\\appdata\\roaming\\python\\python39\\site-packages (from requests->yelpapi) (3.4)\n",
      "Requirement already satisfied: urllib3<1.27,>=1.21.1 in c:\\users\\yporq\\appdata\\roaming\\python\\python39\\site-packages (from requests->yelpapi) (1.26.14)\n",
      "Requirement already satisfied: certifi>=2017.4.17 in c:\\users\\yporq\\appdata\\roaming\\python\\python39\\site-packages (from requests->yelpapi) (2022.12.7)\n",
      "Note: you may need to restart the kernel to use updated packages.\n"
     ]
    },
    {
     "name": "stderr",
     "output_type": "stream",
     "text": [
      "WARNING: Ignoring invalid distribution - (c:\\python39\\lib\\site-packages)\n",
      "WARNING: Ignoring invalid distribution -ip (c:\\python39\\lib\\site-packages)\n",
      "WARNING: Ignoring invalid distribution - (c:\\python39\\lib\\site-packages)\n",
      "WARNING: Ignoring invalid distribution -ip (c:\\python39\\lib\\site-packages)\n"
     ]
    },
    {
     "name": "stdout",
     "output_type": "stream",
     "text": [
      "Requirement already satisfied: requests in c:\\users\\yporq\\appdata\\roaming\\python\\python39\\site-packages (2.28.2)\n",
      "Requirement already satisfied: charset-normalizer<4,>=2 in c:\\users\\yporq\\appdata\\roaming\\python\\python39\\site-packages (from requests) (2.1.1)\n",
      "Requirement already satisfied: idna<4,>=2.5 in c:\\users\\yporq\\appdata\\roaming\\python\\python39\\site-packages (from requests) (3.4)\n",
      "Requirement already satisfied: urllib3<1.27,>=1.21.1 in c:\\users\\yporq\\appdata\\roaming\\python\\python39\\site-packages (from requests) (1.26.14)\n",
      "Requirement already satisfied: certifi>=2017.4.17 in c:\\users\\yporq\\appdata\\roaming\\python\\python39\\site-packages (from requests) (2022.12.7)\n",
      "Note: you may need to restart the kernel to use updated packages.\n"
     ]
    },
    {
     "name": "stderr",
     "output_type": "stream",
     "text": [
      "WARNING: Ignoring invalid distribution - (c:\\python39\\lib\\site-packages)\n",
      "WARNING: Ignoring invalid distribution -ip (c:\\python39\\lib\\site-packages)\n",
      "WARNING: Ignoring invalid distribution - (c:\\python39\\lib\\site-packages)\n",
      "WARNING: Ignoring invalid distribution -ip (c:\\python39\\lib\\site-packages)\n"
     ]
    }
   ],
   "source": [
    "%pip install yelpapi\n",
    "%pip install requests"
   ]
  },
  {
   "attachments": {},
   "cell_type": "markdown",
   "metadata": {},
   "source": [
    "client_id, api_key"
   ]
  },
  {
   "cell_type": "code",
   "execution_count": 1,
   "metadata": {},
   "outputs": [],
   "source": [
    "lient_id = \"xloJPd8uu_wT5OA7iEGqfg\"\n",
    "api_key= \"Q1QkFZJjdwCzYsP8JQP52gl7M-DRn1KRgVU6Fu26dHk-v8mg_jw5_ID9VDPpu7UdPhrI8RIDKFsnDq-3kZJEwi4P8KY4oTha6ibEp9_s7ODRPz50KbsFqBVzhNxlZHYx\""
   ]
  },
  {
   "cell_type": "code",
   "execution_count": 2,
   "metadata": {},
   "outputs": [],
   "source": [
    "from yelpapi import YelpAPI\n",
    "import pandas as pd\n",
    "import requests\n",
    "yelp_api = YelpAPI(api_key)"
   ]
  },
  {
   "cell_type": "code",
   "execution_count": 3,
   "metadata": {},
   "outputs": [
    {
     "data": {
      "text/plain": [
       "\"\\nAída - 1,2,3 - 'Centro', 'Arganzuela', 'Retiro'\\nCarlos - 4,5,6 - 'Salamanca', 'Chamartín', 'Tetuán'\\nMarina - 7,8,9 - 'Chamberí', 'Fuencarral-El Pardo', 'Moncloa-Aravaca'\\nFernando - 10,11,12 - 'Latina', 'Carabanchel', 'Usera'\\nVíctor - 13,14,15 - 'Puente de Vallecas', 'Moratalaz', 'Ciudad Lineal'\\nRichi - 16,17,18 -  'Hortaleza', 'Villaverde', 'Villa de Vallecas'\\nÁlvaro - 19,20,21 - 'Vicálvaro', 'San Blas-Canillejas', 'Barajas'\\n\\n\""
      ]
     },
     "execution_count": 3,
     "metadata": {},
     "output_type": "execute_result"
    }
   ],
   "source": [
    "distritos = ['Salamanca', 'Chamartín', 'Tetuán']#, 'Salamanca', 'Chamartín', 'Tetuán', 'Chamberí', 'Fuencarral-El Pardo', 'Moncloa-Aravaca', 'Latina', 'Carabanchel', 'Usera', 'Puente de Vallecas', 'Moratalaz', 'Ciudad Lineal', 'Hortaleza', 'Villaverde', 'Villa de Vallecas', 'Vicálvaro', 'San Blas-Canillejas', 'Barajas']\n",
    "\"\"\"\n",
    "Aída - 1,2,3 - 'Centro', 'Arganzuela', 'Retiro'\n",
    "Carlos - 4,5,6 - 'Salamanca', 'Chamartín', 'Tetuán'\n",
    "Marina - 7,8,9 - 'Chamberí', 'Fuencarral-El Pardo', 'Moncloa-Aravaca'\n",
    "Fernando - 10,11,12 - 'Latina', 'Carabanchel', 'Usera'\n",
    "Víctor - 13,14,15 - 'Puente de Vallecas', 'Moratalaz', 'Ciudad Lineal'\n",
    "Richi - 16,17,18 -  'Hortaleza', 'Villaverde', 'Villa de Vallecas'\n",
    "Álvaro - 19,20,21 - 'Vicálvaro', 'San Blas-Canillejas', 'Barajas'\n",
    "\n",
    "\"\"\"\n"
   ]
  },
  {
   "cell_type": "code",
   "execution_count": 8,
   "metadata": {},
   "outputs": [],
   "source": [
    "\n",
    "url = 'https://api.yelp.com/v3/businesses/search'\n",
    "params = {    \n",
    "    'categories': 'restaurants',\n",
    "    'limit': 2  # Number of results to retrieve (max is 50)\n",
    "}\n",
    "headers = {\n",
    "    'Authorization': 'Bearer ' + api_key\n",
    "}\n",
    "latitude_value= 40.411390924552144\n",
    "longitude_value= -3.6643494118331197\n",
    "radius_value= 100\n",
    "\n",
    "res = []\n",
    "for dis in distritos:\n",
    "    #params[\"location\"] = dis + \",Madrid\"\n",
    "    params = {    \n",
    "    \"latitude\": latitude_value,  # Latitud de la ubicación deseada\n",
    "    \"longitude\": longitude_value,  # Longitud de la ubicación deseada\n",
    "    \"radius\": radius_value,  # Radio en metros para buscar restaurantes alrededor de la ubicación\n",
    "    'categories': 'restaurants',\n",
    "    'limit': 2  # Number of results to retrieve (max is 50)\n",
    "    }\n",
    "\n",
    "    # Send GET request to the API\n",
    "    response = requests.get(url, headers=headers, params=params)\n",
    "    if response.headers.get(\"Content-Type\") == \"application/json\":\n",
    "        try:\n",
    "            # Parse the JSON response\n",
    "            data = response.json()\n",
    "               # Extract and process restaurants\n",
    "            restaurants = data['businesses']           \n",
    "            \n",
    "            for restaurant in restaurants:\n",
    "                description = \"\"\n",
    "                name = restaurant['name']\n",
    "                rating = restaurant['rating']    \n",
    "                address = ', '.join(restaurant['location']['display_address'])\n",
    "                categories = restaurant['categories']\n",
    "                if \"url\" in restaurant:\n",
    "                    url = restaurant[\"url\"]\n",
    "                else:\n",
    "                    hours = None\n",
    "                if \"alias\" in restaurant:\n",
    "                    alias = restaurant[\"alias\"]\n",
    "                else:\n",
    "                    hours = None\n",
    "                if \"name\" in restaurant:\n",
    "                    nombre = restaurant[\"name\"]\n",
    "                else:\n",
    "                    nombre = None\n",
    "                if \"image_url\" in restaurant:\n",
    "                    image_url = restaurant[\"image_url\"]\n",
    "                else:\n",
    "                    nombre = None\n",
    "                if \"is_closed\" in restaurant:\n",
    "                    is_closed = restaurant[\"is_closed\"]\n",
    "                else:\n",
    "                    is_closed = None\n",
    "                if \"name\" in restaurant:\n",
    "                    nombre = restaurant[\"name\"]\n",
    "                else:\n",
    "                    nombre = None\n",
    "                if \"review_count\" in restaurant:\n",
    "                    review_count = restaurant[\"review_count\"]\n",
    "                else:\n",
    "                    review_count = None\n",
    "                if \"coordinates\" in restaurant:\n",
    "                    latitude = restaurant[\"coordinates\"][\"latitude\"]\n",
    "                    longitude = restaurant[\"coordinates\"][\"longitude\"]\n",
    "                else:\n",
    "                    coordinates = None\n",
    "                if \"location\" in restaurant:\n",
    "                    location = restaurant[\"location\"]\n",
    "                else:\n",
    "                    location = None\n",
    "                if \"display_phone\" in restaurant:\n",
    "                    display_phone = restaurant[\"display_phone\"]\n",
    "                else:\n",
    "                    display_phone = None\n",
    "                if \"price\" in restaurant:\n",
    "                    price = restaurant[\"name\"]\n",
    "                else:\n",
    "                    price = None           \n",
    "                if \"hours\" in restaurant:\n",
    "                    hours = restaurant[\"hours\"]\n",
    "                else:\n",
    "                    hours = None\n",
    "\n",
    "                \n",
    "                if \"transactions\" in restaurant:\n",
    "                    transactions = restaurant[\"transactions\"]\n",
    "                else:\n",
    "                    languages = None\n",
    "                if \"languages\" in restaurant:\n",
    "                    languages = restaurant[\"languages\"]\n",
    "                else:\n",
    "                    languages = None\n",
    "\n",
    "                if \"attributes\" in restaurant:\n",
    "                    attributes = restaurant[\"attributes\"]\n",
    "                else:\n",
    "                    attributes = None\n",
    "\n",
    "                if \"transit\" in restaurant:\n",
    "                    transit = restaurant[\"transit\"]\n",
    "                else:\n",
    "                    transit = None\n",
    "\n",
    "                if \"best_time\" in restaurant:\n",
    "                    best_time = restaurant[\"best_time\"]\n",
    "                else:\n",
    "                    best_time = None\n",
    "\n",
    "                if \"delivery\" in restaurant:\n",
    "                    delivery = restaurant[\"delivery\"]\n",
    "                else:\n",
    "                    delivery = None\n",
    "\n",
    "                if \"pickup\" in restaurant:\n",
    "                    pickup = restaurant[\"pickup\"]\n",
    "                else:\n",
    "                    pickup = None\n",
    "\n",
    "                if \"online_ordering\" in restaurant:\n",
    "                    online_ordering = restaurant[\"online_ordering\"]\n",
    "                else:\n",
    "                    online_ordering = None\n",
    "\n",
    "                if \"is_hot_and_new\" in restaurant:\n",
    "                    is_hot_and_new = restaurant[\"is_hot_and_new\"]\n",
    "                else:\n",
    "                    is_hot_and_new = None\n",
    "                \n",
    "\n",
    "                for c in categories:\n",
    "                    description = description + c[\"title\"] + \" \"\n",
    "                description = description  \n",
    "\n",
    "                # Make the API call to retrieve reviews for the current business\n",
    "                reviews_response = yelp_api.reviews_query(id=restaurant[\"id\"],location=\"Madrid\", lang=\"es\")\n",
    "                \n",
    "                # Extract the reviews from the response\n",
    "                reviews = reviews_response['reviews']\n",
    "                \n",
    "                # Process and print the reviews\n",
    "                \n",
    "                rev = \"\"\n",
    "                for review in reviews[:5]:\n",
    "                    review_text = review['text']\n",
    "                    rating = review['rating']\n",
    "                    reviewer_name = review['user']['name']\n",
    "\n",
    "                    rev = rev + review_text + \". \"   \n",
    "                    \n",
    "             \n",
    "                res.append({\n",
    "                    \"name\" : name, \"rating\": rating, \"address\": address, \"description\": description, \"review\": rev,\n",
    "                    \"alias\":alias,\n",
    "                    \"name\":nombre,\n",
    "                    \"image_url\":image_url,\n",
    "                    \"is_closed\":is_closed,\n",
    "                    \"review_count\":review_count,\n",
    "                    \"latitude\":latitude,\n",
    "                    \"longitude\": longitude,\n",
    "                    \"location\":location,\n",
    "                    \"display_phone\":display_phone,\n",
    "                    \"price\":price,\n",
    "                    \"hours\":hours,\n",
    "                    \"transactions\":transactions,\n",
    "                    \"languages\":languages,\n",
    "                    \"attributes\":attributes,\n",
    "                    \"transit\":transit,\n",
    "                    \"best_time\":best_time,\n",
    "                    \"delivery\":delivery,\n",
    "                    \"pickup\":pickup,\n",
    "                    \"online_ordering\":online_ordering\n",
    "                })\n",
    "        except json.JSONDecodeError:\n",
    "            print(\"La respuesta no es un JSON válido\")\n",
    "\n",
    "dfDistritoX = pd.DataFrame(res)\n"
   ]
  },
  {
   "cell_type": "code",
   "execution_count": 9,
   "metadata": {},
   "outputs": [],
   "source": [
    "dfDistritoX = pd.DataFrame(res)\n"
   ]
  },
  {
   "cell_type": "code",
   "execution_count": 10,
   "metadata": {},
   "outputs": [
    {
     "data": {
      "text/html": [
       "<div>\n",
       "<style scoped>\n",
       "    .dataframe tbody tr th:only-of-type {\n",
       "        vertical-align: middle;\n",
       "    }\n",
       "\n",
       "    .dataframe tbody tr th {\n",
       "        vertical-align: top;\n",
       "    }\n",
       "\n",
       "    .dataframe thead th {\n",
       "        text-align: right;\n",
       "    }\n",
       "</style>\n",
       "<table border=\"1\" class=\"dataframe\">\n",
       "  <thead>\n",
       "    <tr style=\"text-align: right;\">\n",
       "      <th></th>\n",
       "      <th>name</th>\n",
       "      <th>rating</th>\n",
       "      <th>address</th>\n",
       "      <th>description</th>\n",
       "      <th>review</th>\n",
       "      <th>alias</th>\n",
       "      <th>image_url</th>\n",
       "      <th>is_closed</th>\n",
       "      <th>review_count</th>\n",
       "      <th>latitude</th>\n",
       "      <th>...</th>\n",
       "      <th>price</th>\n",
       "      <th>hours</th>\n",
       "      <th>transactions</th>\n",
       "      <th>languages</th>\n",
       "      <th>attributes</th>\n",
       "      <th>transit</th>\n",
       "      <th>best_time</th>\n",
       "      <th>delivery</th>\n",
       "      <th>pickup</th>\n",
       "      <th>online_ordering</th>\n",
       "    </tr>\n",
       "  </thead>\n",
       "  <tbody>\n",
       "    <tr>\n",
       "      <th>0</th>\n",
       "      <td>Norba</td>\n",
       "      <td>4.0</td>\n",
       "      <td>Calle Sirio, 26, 28007 Madrid, Spain</td>\n",
       "      <td>Spanish Wine Bars</td>\n",
       "      <td></td>\n",
       "      <td>norba-madrid</td>\n",
       "      <td>https://s3-media1.fl.yelpcdn.com/bphoto/gLxaRr...</td>\n",
       "      <td>False</td>\n",
       "      <td>1</td>\n",
       "      <td>40.412098</td>\n",
       "      <td>...</td>\n",
       "      <td>None</td>\n",
       "      <td>None</td>\n",
       "      <td>[]</td>\n",
       "      <td>None</td>\n",
       "      <td>None</td>\n",
       "      <td>None</td>\n",
       "      <td>None</td>\n",
       "      <td>None</td>\n",
       "      <td>None</td>\n",
       "      <td>None</td>\n",
       "    </tr>\n",
       "  </tbody>\n",
       "</table>\n",
       "<p>1 rows × 23 columns</p>\n",
       "</div>"
      ],
      "text/plain": [
       "    name  rating                               address         description  \\\n",
       "0  Norba     4.0  Calle Sirio, 26, 28007 Madrid, Spain  Spanish Wine Bars    \n",
       "\n",
       "  review         alias                                          image_url  \\\n",
       "0         norba-madrid  https://s3-media1.fl.yelpcdn.com/bphoto/gLxaRr...   \n",
       "\n",
       "   is_closed  review_count   latitude  ...  price hours transactions  \\\n",
       "0      False             1  40.412098  ...   None  None           []   \n",
       "\n",
       "  languages attributes transit best_time delivery pickup online_ordering  \n",
       "0      None       None    None      None     None   None            None  \n",
       "\n",
       "[1 rows x 23 columns]"
      ]
     },
     "execution_count": 10,
     "metadata": {},
     "output_type": "execute_result"
    }
   ],
   "source": [
    "dfDistritoX.head()\n"
   ]
  },
  {
   "cell_type": "code",
   "execution_count": 11,
   "metadata": {},
   "outputs": [
    {
     "data": {
      "text/plain": [
       "0    40.412098\n",
       "Name: latitude, dtype: float64"
      ]
     },
     "execution_count": 11,
     "metadata": {},
     "output_type": "execute_result"
    }
   ],
   "source": [
    "dfDistritoX.latitude"
   ]
  },
  {
   "cell_type": "code",
   "execution_count": 200,
   "metadata": {},
   "outputs": [],
   "source": [
    "dfDistritoX.to_csv(\"../data/distritoX.csv\")"
   ]
  }
 ],
 "metadata": {
  "kernelspec": {
   "display_name": "Python 3",
   "language": "python",
   "name": "python3"
  },
  "language_info": {
   "codemirror_mode": {
    "name": "ipython",
    "version": 3
   },
   "file_extension": ".py",
   "mimetype": "text/x-python",
   "name": "python",
   "nbconvert_exporter": "python",
   "pygments_lexer": "ipython3",
   "version": "3.10.9"
  },
  "orig_nbformat": 4
 },
 "nbformat": 4,
 "nbformat_minor": 2
}
