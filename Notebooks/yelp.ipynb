{
 "cells": [
  {
   "cell_type": "code",
   "execution_count": 117,
   "metadata": {},
   "outputs": [
    {
     "name": "stdout",
     "output_type": "stream",
     "text": [
      "Requirement already satisfied: yelpapi in c:\\python39\\lib\\site-packages (2.5.0)\n",
      "Requirement already satisfied: requests in c:\\users\\yporq\\appdata\\roaming\\python\\python39\\site-packages (from yelpapi) (2.28.2)\n",
      "Requirement already satisfied: charset-normalizer<4,>=2 in c:\\users\\yporq\\appdata\\roaming\\python\\python39\\site-packages (from requests->yelpapi) (2.1.1)\n",
      "Requirement already satisfied: idna<4,>=2.5 in c:\\users\\yporq\\appdata\\roaming\\python\\python39\\site-packages (from requests->yelpapi) (3.4)\n",
      "Requirement already satisfied: urllib3<1.27,>=1.21.1 in c:\\users\\yporq\\appdata\\roaming\\python\\python39\\site-packages (from requests->yelpapi) (1.26.14)\n",
      "Requirement already satisfied: certifi>=2017.4.17 in c:\\users\\yporq\\appdata\\roaming\\python\\python39\\site-packages (from requests->yelpapi) (2022.12.7)\n",
      "Note: you may need to restart the kernel to use updated packages.\n"
     ]
    },
    {
     "name": "stderr",
     "output_type": "stream",
     "text": [
      "WARNING: Ignoring invalid distribution - (c:\\python39\\lib\\site-packages)\n",
      "WARNING: Ignoring invalid distribution -ip (c:\\python39\\lib\\site-packages)\n",
      "WARNING: Ignoring invalid distribution - (c:\\python39\\lib\\site-packages)\n",
      "WARNING: Ignoring invalid distribution -ip (c:\\python39\\lib\\site-packages)\n"
     ]
    },
    {
     "name": "stdout",
     "output_type": "stream",
     "text": [
      "Requirement already satisfied: requests in c:\\users\\yporq\\appdata\\roaming\\python\\python39\\site-packages (2.28.2)\n",
      "Requirement already satisfied: charset-normalizer<4,>=2 in c:\\users\\yporq\\appdata\\roaming\\python\\python39\\site-packages (from requests) (2.1.1)\n",
      "Requirement already satisfied: idna<4,>=2.5 in c:\\users\\yporq\\appdata\\roaming\\python\\python39\\site-packages (from requests) (3.4)\n",
      "Requirement already satisfied: urllib3<1.27,>=1.21.1 in c:\\users\\yporq\\appdata\\roaming\\python\\python39\\site-packages (from requests) (1.26.14)\n",
      "Requirement already satisfied: certifi>=2017.4.17 in c:\\users\\yporq\\appdata\\roaming\\python\\python39\\site-packages (from requests) (2022.12.7)\n",
      "Note: you may need to restart the kernel to use updated packages.\n"
     ]
    },
    {
     "name": "stderr",
     "output_type": "stream",
     "text": [
      "WARNING: Ignoring invalid distribution - (c:\\python39\\lib\\site-packages)\n",
      "WARNING: Ignoring invalid distribution -ip (c:\\python39\\lib\\site-packages)\n",
      "WARNING: Ignoring invalid distribution - (c:\\python39\\lib\\site-packages)\n",
      "WARNING: Ignoring invalid distribution -ip (c:\\python39\\lib\\site-packages)\n"
     ]
    }
   ],
   "source": [
    "%pip install yelpapi\n",
    "%pip install requests"
   ]
  },
  {
   "attachments": {},
   "cell_type": "markdown",
   "metadata": {},
   "source": [
    "client_id, api_key"
   ]
  },
  {
   "cell_type": "code",
   "execution_count": 235,
   "metadata": {},
   "outputs": [],
   "source": [
    "client_id =\"5v5CeE42PBFGr0l-fmuClA\"# \"ahIDMsj-IWyPblkR9XD1-g\"#\n",
    "api_key= \"XebaNhK8qbRRa1niztr2koMMLhg4Grek0Sx_jWnayqptZK3ZTYaxfxgl0NxQmgqINpBkZM5ERXel_Wc5M6sFBIJsfpw4NfNu_2s9SrIRZucKZfkUoWqK8n-tMZtkZHYx\"#\"yrmL8wasIICGpCJdKM8NgFOGpvNjj7onUofJgZqxpZ9BpqU7leefJqUCtwvbD8ieBSOM1IY1WGOSpMOup7Fo1VmnUJts1ASO-ri2WBvBpW3RCCYLKCOYZjxOldxlZHYx\"#"
   ]
  },
  {
   "cell_type": "code",
   "execution_count": 246,
   "metadata": {},
   "outputs": [],
   "source": [
    "client_id = \"BHE-irtrjFjW_Jzmg8ZRbg\"\n",
    "api_key= \"o9lqLRnuXTpzvksmvTFqHWsXRXvZokt-6iM3Gc7Ki25elJi5vDQpvSaUR_gj1-HpDTRqoNNM-RuU-TBshDnqY32U_d3cfcsqYukCg3UzqOapkG9PZypEcvsd7g9mZHYx\""
   ]
  },
  {
   "cell_type": "code",
   "execution_count": 247,
   "metadata": {},
   "outputs": [],
   "source": [
    "from yelpapi import YelpAPI\n",
    "import pandas as pd\n",
    "import requests\n",
    "yelp_api = YelpAPI(api_key)"
   ]
  },
  {
   "cell_type": "code",
   "execution_count": 208,
   "metadata": {},
   "outputs": [
    {
     "data": {
      "text/plain": [
       "\"\\nAída - 1,2,3 - 'Centro', 'Arganzuela', 'Retiro'\\nCarlos - 4,5,6 - 'Salamanca', 'Chamartín', 'Tetuán'\\nMarina - 7,8,9 - 'Chamberí', 'Fuencarral-El Pardo', 'Moncloa-Aravaca'\\nFernando - 10,11,12 - 'Latina', 'Carabanchel', 'Usera'\\nVíctor - 13,14,15 - 'Puente de Vallecas', 'Moratalaz', 'Ciudad Lineal'\\nRichi - 16,17,18 -  'Hortaleza', 'Villaverde', 'Villa de Vallecas'\\nÁlvaro - 19,20,21 - 'Vicálvaro', 'San Blas-Canillejas', 'Barajas'\\n\\n\""
      ]
     },
     "execution_count": 208,
     "metadata": {},
     "output_type": "execute_result"
    }
   ],
   "source": [
    "#distritos = ['Centro', 'Arganzuela', 'Retiro', 'Salamanca', 'Chamartín', 'Tetuán', 'Chamberí', 'Fuencarral-El Pardo', 'Moncloa-Aravaca', 'Latina', 'Carabanchel', 'Usera', 'Puente de Vallecas', 'Moratalaz', 'Ciudad Lineal', 'Hortaleza', 'Villaverde', 'Villa de Vallecas', 'Vicálvaro', 'San Blas-Canillejas', 'Barajas']\n",
    "\"\"\"\n",
    "Aída - 1,2,3 - 'Centro', 'Arganzuela', 'Retiro'\n",
    "Carlos - 4,5,6 - 'Salamanca', 'Chamartín', 'Tetuán'\n",
    "Marina - 7,8,9 - 'Chamberí', 'Fuencarral-El Pardo', 'Moncloa-Aravaca'\n",
    "Fernando - 10,11,12 - 'Latina', 'Carabanchel', 'Usera'\n",
    "Víctor - 13,14,15 - 'Puente de Vallecas', 'Moratalaz', 'Ciudad Lineal'\n",
    "Richi - 16,17,18 -  'Hortaleza', 'Villaverde', 'Villa de Vallecas'\n",
    "Álvaro - 19,20,21 - 'Vicálvaro', 'San Blas-Canillejas', 'Barajas'\n",
    "\n",
    "\"\"\"\n"
   ]
  },
  {
   "cell_type": "code",
   "execution_count": 233,
   "metadata": {},
   "outputs": [],
   "source": [
    "distritos = [\n",
    "    {\"district\": \"Centro\", \"latitude\": 40.415363, \"longitude\": -3.707398},\n",
    "    {\"district\": \"Arganzuela\", \"latitude\": 40.398068, \"longitude\": -3.693734},\n",
    "    {\"district\": \"Retiro\", \"latitude\": 40.411894, \"longitude\": -3.676574},\n",
    "    {\"district\": \"Salamanca\", \"latitude\": 40.427919, \"longitude\": -3.680877},\n",
    "    {\"district\": \"Chamartín\", \"latitude\": 40.462428, \"longitude\": -3.676057},\n",
    "    {\"district\": \"Tetuán\", \"latitude\": 40.466676, \"longitude\": -3.698984},\n",
    "    {\"district\": \"Chamberí\", \"latitude\": 40.436247, \"longitude\": -3.703830},\n",
    "    {\"district\": \"Fuencarral-El Pardo\", \"latitude\": 40.515923, \"longitude\": -3.785586},\n",
    "    {\"district\": \"Moncloa-Aravaca\", \"latitude\": 40.439883, \"longitude\": -3.744509},\n",
    "    {\"district\": \"Latina\", \"latitude\": 40.388981, \"longitude\": -3.753525},\n",
    "    {\"district\": \"Carabanchel\", \"latitude\": 40.377818, \"longitude\": -3.751209},\n",
    "    {\"district\": \"Usera\", \"latitude\": 40.383553, \"longitude\": -3.706070},\n",
    "    {\"district\": \"Puente de Vallecas\", \"latitude\": 40.389491, \"longitude\": -3.669062},\n",
    "    {\"district\": \"Moratalaz\", \"latitude\": 40.407251, \"longitude\": -3.644992},\n",
    "    {\"district\": \"Ciudad Lineal\", \"latitude\": 40.448431, \"longitude\": -3.650495},\n",
    "    {\"district\": \"Hortaleza\", \"latitude\": 40.474457, \"longitude\": -3.640892},\n",
    "    {\"district\": \"Villaverde\", \"latitude\": 40.345610, \"longitude\": -3.695956},\n",
    "    {\"district\": \"Villa de Vallecas\", \"latitude\": 40.367040, \"longitude\": -3.612046},\n",
    "    {\"district\": \"Vicálvaro\", \"latitude\": 40.396584, \"longitude\": -3.576622},\n",
    "    {\"district\": \"San Blas-Canillejas\", \"latitude\": 40.428918, \"longitude\": -3.609064},\n",
    "    {\"district\": \"Barajas\", \"latitude\": 40.477628, \"longitude\": -3.579394}\n",
    "]\n"
   ]
  },
  {
   "cell_type": "code",
   "execution_count": 271,
   "metadata": {},
   "outputs": [
    {
     "data": {
      "text/plain": [
       "[{'district': 'Centro', 'latitude': 40.415363, 'longitude': -3.707398},\n",
       " {'district': 'Arganzuela', 'latitude': 40.398068, 'longitude': -3.693734},\n",
       " {'district': 'Retiro', 'latitude': 40.411894, 'longitude': -3.676574}]"
      ]
     },
     "execution_count": 271,
     "metadata": {},
     "output_type": "execute_result"
    }
   ],
   "source": [
    "distritos[:3]"
   ]
  },
  {
   "cell_type": "code",
   "execution_count": 272,
   "metadata": {},
   "outputs": [],
   "source": [
    "\n",
    "url = 'https://api.yelp.com/v3/businesses/search'\n",
    "params = {    \n",
    "        \n",
    "        'categories': 'restaurants',\n",
    "        \"radius\": 5000,\n",
    "        'limit': 50  # Number of results to retrieve (max is 50)\n",
    "    }\n",
    "headers = {\n",
    "    'Authorization': 'Bearer ' + api_key\n",
    "}\n",
    "res = []\n",
    "for dis in distritos[:3]:  \n",
    "    params = {    \n",
    "        \"latitude\": dis[\"latitude\"],\n",
    "        \"longitude\": dis[\"longitude\"]        \n",
    "    }\n",
    "\n",
    "    # Send GET request to the API\n",
    "    response = requests.get(url, headers=headers, params=params)\n",
    "    if response.headers.get(\"Content-Type\") == \"application/json\":\n",
    "        try:\n",
    "            # Parse the JSON response\n",
    "            data = response.json()\n",
    "           \n",
    "            # Extract and process restaurants\n",
    "            restaurants = data['businesses']           \n",
    "            \n",
    "            for restaurant in restaurants:\n",
    "                description = \"\"\n",
    "                name = restaurant['name']\n",
    "                rating = restaurant['rating']    \n",
    "                address = ', '.join(restaurant['location']['display_address'])\n",
    "                categories = restaurant['categories']\n",
    "                if \"url\" in restaurant:\n",
    "                    url = restaurant[\"url\"]\n",
    "                else:\n",
    "                    hours = None\n",
    "                if \"alias\" in restaurant:\n",
    "                    alias = restaurant[\"alias\"]\n",
    "                else:\n",
    "                    hours = None\n",
    "                if \"name\" in restaurant:\n",
    "                    nombre = restaurant[\"name\"]\n",
    "                else:\n",
    "                    nombre = None\n",
    "                if \"image_url\" in restaurant:\n",
    "                    image_url = restaurant[\"image_url\"]\n",
    "                else:\n",
    "                    nombre = None\n",
    "                if \"is_closed\" in restaurant:\n",
    "                    is_closed = restaurant[\"is_closed\"]\n",
    "                else:\n",
    "                    is_closed = None\n",
    "                if \"name\" in restaurant:\n",
    "                    nombre = restaurant[\"name\"]\n",
    "                else:\n",
    "                    nombre = None\n",
    "                if \"review_count\" in restaurant:\n",
    "                    review_count = restaurant[\"review_count\"]\n",
    "                else:\n",
    "                    review_count = None\n",
    "                if \"coordinates\" in restaurant:\n",
    "                    latitude = restaurant[\"coordinates\"][\"latitude\"]\n",
    "                    longitude = restaurant[\"coordinates\"][\"longitude\"]\n",
    "                else:\n",
    "                    coordinates = None\n",
    "                if \"location\" in restaurant:\n",
    "                    location = restaurant[\"location\"]\n",
    "                else:\n",
    "                    location = None\n",
    "                if \"display_phone\" in restaurant:\n",
    "                    display_phone = restaurant[\"display_phone\"]\n",
    "                else:\n",
    "                    display_phone = None\n",
    "                if \"price\" in restaurant:\n",
    "                    price = restaurant[\"name\"]\n",
    "                else:\n",
    "                    price = None           \n",
    "                if \"hours\" in restaurant:\n",
    "                    hours = restaurant[\"hours\"]\n",
    "                else:\n",
    "                    hours = None\n",
    "\n",
    "                \n",
    "                if \"transactions\" in restaurant:\n",
    "                    transactions = restaurant[\"transactions\"]\n",
    "                else:\n",
    "                    languages = None\n",
    "                if \"languages\" in restaurant:\n",
    "                    languages = restaurant[\"languages\"]\n",
    "                else:\n",
    "                    languages = None\n",
    "\n",
    "                if \"attributes\" in restaurant:\n",
    "                    attributes = restaurant[\"attributes\"]\n",
    "                else:\n",
    "                    attributes = None\n",
    "\n",
    "                if \"transit\" in restaurant:\n",
    "                    transit = restaurant[\"transit\"]\n",
    "                else:\n",
    "                    transit = None\n",
    "\n",
    "                if \"best_time\" in restaurant:\n",
    "                    best_time = restaurant[\"best_time\"]\n",
    "                else:\n",
    "                    best_time = None\n",
    "\n",
    "                if \"delivery\" in restaurant:\n",
    "                    delivery = restaurant[\"delivery\"]\n",
    "                else:\n",
    "                    delivery = None\n",
    "\n",
    "                if \"pickup\" in restaurant:\n",
    "                    pickup = restaurant[\"pickup\"]\n",
    "                else:\n",
    "                    pickup = None\n",
    "\n",
    "                if \"online_ordering\" in restaurant:\n",
    "                    online_ordering = restaurant[\"online_ordering\"]\n",
    "                else:\n",
    "                    online_ordering = None\n",
    "\n",
    "                if \"is_hot_and_new\" in restaurant:\n",
    "                    is_hot_and_new = restaurant[\"is_hot_and_new\"]\n",
    "                else:\n",
    "                    is_hot_and_new = None\n",
    "                \n",
    "\n",
    "                for c in categories:\n",
    "                    description = description + c[\"title\"] + \" \"\n",
    "                description = description  \n",
    "\n",
    "                # Make the API call to retrieve reviews for the current business\n",
    "                reviews_response = yelp_api.reviews_query(id=restaurant[\"id\"],location=\"Madrid\", lang=\"es\")\n",
    "                \n",
    "                # Extract the reviews from the response\n",
    "                reviews = reviews_response['reviews']\n",
    "                \n",
    "                # Process and print the reviews\n",
    "                \n",
    "                rev = \"\"\n",
    "                for review in reviews[:5]:\n",
    "                    review_text = review['text']\n",
    "                    rating = review['rating']\n",
    "                    reviewer_name = review['user']['name']\n",
    "\n",
    "                    rev = rev + review_text + \". \"   \n",
    "                    \n",
    "             \n",
    "                res.append({\n",
    "                    \"name\" : name, \"rating\": rating, \"address\": address, \"description\": description, \"review\": rev,\n",
    "                    \"alias\":alias,\n",
    "                    \"name\":nombre,\n",
    "                    \"image_url\":image_url,\n",
    "                    \"is_closed\":is_closed,\n",
    "                    \"review_count\":review_count,\n",
    "                    \"latitude\":latitude,\n",
    "                    \"longitude\": longitude,\n",
    "                    \"location\":location,\n",
    "                    \"display_phone\":display_phone,\n",
    "                    \"price\":price,\n",
    "                    \"hours\":hours,\n",
    "                    \"transactions\":transactions,\n",
    "                    \"languages\":languages,\n",
    "                    \"attributes\":attributes,\n",
    "                    \"transit\":transit,\n",
    "                    \"best_time\":best_time,\n",
    "                    \"delivery\":delivery,\n",
    "                    \"pickup\":pickup,\n",
    "                    \"online_ordering\":online_ordering\n",
    "                })\n",
    "        except json.JSONDecodeError:\n",
    "            print(\"La respuesta no es un JSON válido\")\n",
    "\n",
    "\n"
   ]
  },
  {
   "cell_type": "code",
   "execution_count": null,
   "metadata": {},
   "outputs": [],
   "source": [
    "dfDistritoX = pd.DataFrame(res)"
   ]
  },
  {
   "cell_type": "code",
   "execution_count": 273,
   "metadata": {},
   "outputs": [
    {
     "data": {
      "text/plain": [
       "(20, 23)"
      ]
     },
     "execution_count": 273,
     "metadata": {},
     "output_type": "execute_result"
    }
   ],
   "source": [
    "dfDistritoX.shape\n"
   ]
  },
  {
   "cell_type": "code",
   "execution_count": 274,
   "metadata": {},
   "outputs": [],
   "source": [
    "dfDistritoX.to_csv(\"../data/distrito1.csv\")"
   ]
  }
 ],
 "metadata": {
  "kernelspec": {
   "display_name": "Python 3",
   "language": "python",
   "name": "python3"
  },
  "language_info": {
   "codemirror_mode": {
    "name": "ipython",
    "version": 3
   },
   "file_extension": ".py",
   "mimetype": "text/x-python",
   "name": "python",
   "nbconvert_exporter": "python",
   "pygments_lexer": "ipython3",
   "version": "3.9.2"
  },
  "orig_nbformat": 4
 },
 "nbformat": 4,
 "nbformat_minor": 2
}
