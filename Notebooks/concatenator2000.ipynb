{
 "cells": [
  {
   "cell_type": "code",
   "execution_count": 1,
   "metadata": {},
   "outputs": [],
   "source": [
    "import pandas as pd\n",
    "\n"
   ]
  },
  {
   "cell_type": "code",
   "execution_count": 2,
   "metadata": {},
   "outputs": [],
   "source": [
    "# Leemos los archivos CSV por separado\n",
    "\n",
    "df1 = pd.read_csv('../data/distrito10.csv')\n",
    "df2 = pd.read_csv('../data/distrito11.csv')\n",
    "df3 = pd.read_csv('../data/distrito12.csv')"
   ]
  },
  {
   "cell_type": "code",
   "execution_count": 3,
   "metadata": {},
   "outputs": [],
   "source": [
    "# Concatenaremos utilizando la función concat\n",
    "# Esto unirá los df uno debajo de otro en el orden que los proporcionas\n",
    "\n",
    "distritosFer = pd.concat([df1,df2,df3])"
   ]
  },
  {
   "cell_type": "code",
   "execution_count": 4,
   "metadata": {},
   "outputs": [
    {
     "name": "stdout",
     "output_type": "stream",
     "text": [
      "<class 'pandas.core.frame.DataFrame'>\n",
      "Int64Index: 150 entries, 0 to 49\n",
      "Data columns (total 24 columns):\n",
      " #   Column           Non-Null Count  Dtype  \n",
      "---  ------           --------------  -----  \n",
      " 0   Unnamed: 0       150 non-null    int64  \n",
      " 1   name             150 non-null    object \n",
      " 2   rating           150 non-null    float64\n",
      " 3   address          150 non-null    object \n",
      " 4   description      150 non-null    object \n",
      " 5   review           30 non-null     object \n",
      " 6   alias            150 non-null    object \n",
      " 7   image_url        142 non-null    object \n",
      " 8   is_closed        150 non-null    bool   \n",
      " 9   review_count     150 non-null    int64  \n",
      " 10  latitude         150 non-null    float64\n",
      " 11  longitude        150 non-null    float64\n",
      " 12  location         150 non-null    object \n",
      " 13  display_phone    134 non-null    object \n",
      " 14  price            90 non-null     object \n",
      " 15  hours            0 non-null      float64\n",
      " 16  transactions     150 non-null    object \n",
      " 17  languages        0 non-null      float64\n",
      " 18  attributes       0 non-null      float64\n",
      " 19  transit          0 non-null      float64\n",
      " 20  best_time        0 non-null      float64\n",
      " 21  delivery         0 non-null      float64\n",
      " 22  pickup           0 non-null      float64\n",
      " 23  online_ordering  0 non-null      float64\n",
      "dtypes: bool(1), float64(11), int64(2), object(10)\n",
      "memory usage: 28.3+ KB\n"
     ]
    }
   ],
   "source": [
    "# Observamos que están todos los datos de los anteriores dataframes\n",
    "\n",
    "distritosFer.info()"
   ]
  },
  {
   "cell_type": "code",
   "execution_count": null,
   "metadata": {},
   "outputs": [],
   "source": [
    "# Pasamos a CSV los 3 dataframes\n",
    "\n",
    "distritosFer.to_csv('../data/distrito101112.csv')"
   ]
  }
 ],
 "metadata": {
  "kernelspec": {
   "display_name": "Python 3",
   "language": "python",
   "name": "python3"
  },
  "language_info": {
   "codemirror_mode": {
    "name": "ipython",
    "version": 3
   },
   "file_extension": ".py",
   "mimetype": "text/x-python",
   "name": "python",
   "nbconvert_exporter": "python",
   "pygments_lexer": "ipython3",
   "version": "3.7.4"
  },
  "orig_nbformat": 4
 },
 "nbformat": 4,
 "nbformat_minor": 2
}
