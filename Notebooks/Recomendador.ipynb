{
 "cells": [
  {
   "attachments": {},
   "cell_type": "markdown",
   "metadata": {},
   "source": [
    "### <div align=\"center\">***RECOMENDADOR***</div>\n",
    "***"
   ]
  },
  {
   "cell_type": "code",
   "execution_count": 1,
   "metadata": {},
   "outputs": [],
   "source": [
    "import numpy as np\n",
    "import pandas as pd\n",
    "import scipy\n",
    "import sys\n",
    "import re\n",
    "#nltk.download() \n",
    "import nltk\n",
    "\n",
    "import string\n",
    "from sklearn.feature_extraction.text import CountVectorizer, TfidfTransformer"
   ]
  },
  {
   "cell_type": "code",
   "execution_count": 1,
   "metadata": {},
   "outputs": [
    {
     "name": "stdout",
     "output_type": "stream",
     "text": [
      "Collecting utilities-package\n",
      "  Downloading utilities-package-0.0.8.tar.gz (28 kB)\n",
      "  Preparing metadata (setup.py): started\n",
      "  Preparing metadata (setup.py): finished with status 'done'\n",
      "Requirement already satisfied: scipy in c:\\users\\ricardo\\appdata\\local\\programs\\python\\python37\\lib\\site-packages (from utilities-package) (1.7.3)\n",
      "Requirement already satisfied: setuptools in c:\\users\\ricardo\\appdata\\roaming\\python\\python37\\site-packages (from utilities-package) (67.2.0)\n",
      "Requirement already satisfied: six in c:\\users\\ricardo\\appdata\\roaming\\python\\python37\\site-packages (from utilities-package) (1.16.0)\n",
      "Collecting bash (from utilities-package)\n",
      "  Downloading bash-0.6.tar.gz (2.8 kB)\n",
      "  Preparing metadata (setup.py): started\n",
      "  Preparing metadata (setup.py): finished with status 'done'\n",
      "Collecting configparser (from utilities-package)\n",
      "  Downloading configparser-5.3.0-py3-none-any.whl (19 kB)\n",
      "Requirement already satisfied: unidecode in c:\\users\\ricardo\\appdata\\local\\programs\\python\\python37\\lib\\site-packages (from utilities-package) (1.3.6)\n",
      "Collecting uritools (from utilities-package)\n",
      "  Downloading uritools-4.0.1-py3-none-any.whl (10 kB)\n",
      "Collecting simplejson (from utilities-package)\n",
      "  Downloading simplejson-3.19.1-cp37-cp37m-win_amd64.whl (75 kB)\n",
      "     ---------------------------------------- 75.1/75.1 kB 1.4 MB/s eta 0:00:00\n",
      "Collecting tailer (from utilities-package)\n",
      "  Downloading tailer-0.4.1.tar.gz (7.5 kB)\n",
      "  Preparing metadata (setup.py): started\n",
      "  Preparing metadata (setup.py): finished with status 'done'\n",
      "Requirement already satisfied: pytz in c:\\users\\ricardo\\appdata\\local\\programs\\python\\python37\\lib\\site-packages (from utilities-package) (2022.7.1)\n",
      "Requirement already satisfied: termcolor in c:\\users\\ricardo\\appdata\\roaming\\python\\python37\\site-packages (from utilities-package) (2.2.0)\n",
      "Collecting texttable (from utilities-package)\n",
      "  Downloading texttable-1.6.7-py2.py3-none-any.whl (10 kB)\n",
      "Collecting schedule (from utilities-package)\n",
      "  Downloading schedule-1.2.0-py2.py3-none-any.whl (11 kB)\n",
      "Requirement already satisfied: python-dateutil in c:\\users\\ricardo\\appdata\\roaming\\python\\python37\\site-packages (from utilities-package) (2.8.2)\n",
      "Requirement already satisfied: beautifulsoup4 in c:\\users\\ricardo\\appdata\\local\\programs\\python\\python37\\lib\\site-packages (from utilities-package) (4.11.2)\n",
      "Collecting cssutils (from utilities-package)\n",
      "  Downloading cssutils-2.6.0-py3-none-any.whl (399 kB)\n",
      "     -------------------------------------- 399.7/399.7 kB 4.2 MB/s eta 0:00:00\n",
      "Collecting base58 (from utilities-package)\n",
      "  Downloading base58-2.1.1-py3-none-any.whl (5.6 kB)\n",
      "Collecting bcrypt (from utilities-package)\n",
      "  Downloading bcrypt-4.0.1-cp36-abi3-win_amd64.whl (152 kB)\n",
      "     -------------------------------------- 152.9/152.9 kB 4.6 MB/s eta 0:00:00\n",
      "Collecting aiohttp (from utilities-package)\n",
      "  Downloading aiohttp-3.8.4-cp37-cp37m-win_amd64.whl (322 kB)\n",
      "     -------------------------------------- 322.2/322.2 kB 6.8 MB/s eta 0:00:00\n",
      "Requirement already satisfied: requests in c:\\users\\ricardo\\appdata\\local\\programs\\python\\python37\\lib\\site-packages (from utilities-package) (2.28.2)\n",
      "Requirement already satisfied: tornado in c:\\users\\ricardo\\appdata\\roaming\\python\\python37\\site-packages (from utilities-package) (6.2)\n",
      "Collecting cherrypy (from utilities-package)\n",
      "  Downloading CherryPy-18.8.0-py2.py3-none-any.whl (348 kB)\n",
      "     -------------------------------------- 348.4/348.4 kB 2.2 MB/s eta 0:00:00\n",
      "Collecting bottle (from utilities-package)\n",
      "  Downloading bottle-0.12.25-py3-none-any.whl (90 kB)\n",
      "     ---------------------------------------- 90.2/90.2 kB 5.0 MB/s eta 0:00:00\n",
      "Requirement already satisfied: flask in c:\\users\\ricardo\\appdata\\local\\programs\\python\\python37\\lib\\site-packages (from utilities-package) (2.2.3)\n",
      "Requirement already satisfied: click in c:\\users\\ricardo\\appdata\\local\\programs\\python\\python37\\lib\\site-packages (from utilities-package) (8.1.3)\n",
      "Requirement already satisfied: Jinja2 in c:\\users\\ricardo\\appdata\\local\\programs\\python\\python37\\lib\\site-packages (from utilities-package) (3.1.2)\n",
      "Collecting coverage (from utilities-package)\n",
      "  Downloading coverage-7.2.5-cp37-cp37m-win_amd64.whl (203 kB)\n",
      "     -------------------------------------- 203.5/203.5 kB 4.1 MB/s eta 0:00:00\n",
      "Collecting pycontracts (from utilities-package)\n",
      "  Downloading PyContracts-1.8.12.tar.gz (91 kB)\n",
      "     ---------------------------------------- 91.4/91.4 kB 5.1 MB/s eta 0:00:00\n",
      "  Preparing metadata (setup.py): started\n",
      "  Preparing metadata (setup.py): finished with status 'done'\n",
      "Collecting pytest (from utilities-package)\n",
      "  Downloading pytest-7.3.1-py3-none-any.whl (320 kB)\n",
      "     -------------------------------------- 320.5/320.5 kB 2.2 MB/s eta 0:00:00\n",
      "Collecting pytest-cov (from utilities-package)\n",
      "  Downloading pytest_cov-4.0.0-py3-none-any.whl (21 kB)\n",
      "Collecting pytest-mock (from utilities-package)\n",
      "  Downloading pytest_mock-3.10.0-py3-none-any.whl (9.3 kB)\n",
      "Collecting pytest-click (from utilities-package)\n",
      "  Downloading pytest_click-1.1.0-py3-none-any.whl (4.1 kB)\n",
      "Collecting pytest-pylint (from utilities-package)\n",
      "  Downloading pytest_pylint-0.19.0-py3-none-any.whl (9.7 kB)\n",
      "Collecting black (from utilities-package)\n",
      "  Downloading black-23.3.0-cp37-cp37m-win_amd64.whl (1.2 MB)\n",
      "     ---------------------------------------- 1.2/1.2 MB 3.9 MB/s eta 0:00:00\n",
      "Collecting flake8 (from utilities-package)\n",
      "  Downloading flake8-5.0.4-py2.py3-none-any.whl (61 kB)\n",
      "     ---------------------------------------- 61.9/61.9 kB ? eta 0:00:00\n",
      "Collecting radon (from utilities-package)\n",
      "  Downloading radon-6.0.1-py2.py3-none-any.whl (52 kB)\n",
      "     ---------------------------------------- 52.8/52.8 kB 2.7 MB/s eta 0:00:00\n",
      "Collecting cli-passthrough (from utilities-package)\n",
      "  Downloading CLI_passthrough-0.1.3-py2.py3-none-any.whl (6.6 kB)\n",
      "Requirement already satisfied: attrs>=17.3.0 in c:\\users\\ricardo\\appdata\\local\\programs\\python\\python37\\lib\\site-packages (from aiohttp->utilities-package) (23.1.0)\n",
      "Requirement already satisfied: charset-normalizer<4.0,>=2.0 in c:\\users\\ricardo\\appdata\\local\\programs\\python\\python37\\lib\\site-packages (from aiohttp->utilities-package) (3.1.0)\n",
      "Collecting multidict<7.0,>=4.5 (from aiohttp->utilities-package)\n",
      "  Downloading multidict-6.0.4-cp37-cp37m-win_amd64.whl (27 kB)\n",
      "Collecting async-timeout<5.0,>=4.0.0a3 (from aiohttp->utilities-package)\n",
      "  Downloading async_timeout-4.0.2-py3-none-any.whl (5.8 kB)\n",
      "Collecting yarl<2.0,>=1.0 (from aiohttp->utilities-package)\n",
      "  Downloading yarl-1.9.2-cp37-cp37m-win_amd64.whl (61 kB)\n",
      "     ---------------------------------------- 61.4/61.4 kB ? eta 0:00:00\n",
      "Collecting frozenlist>=1.1.1 (from aiohttp->utilities-package)\n",
      "  Downloading frozenlist-1.3.3-cp37-cp37m-win_amd64.whl (34 kB)\n",
      "Collecting aiosignal>=1.1.2 (from aiohttp->utilities-package)\n",
      "  Downloading aiosignal-1.3.1-py3-none-any.whl (7.6 kB)\n",
      "Collecting asynctest==0.13.0 (from aiohttp->utilities-package)\n",
      "  Downloading asynctest-0.13.0-py3-none-any.whl (26 kB)\n",
      "Requirement already satisfied: typing-extensions>=3.7.4 in c:\\users\\ricardo\\appdata\\local\\programs\\python\\python37\\lib\\site-packages (from aiohttp->utilities-package) (4.5.0)\n",
      "Requirement already satisfied: soupsieve>1.2 in c:\\users\\ricardo\\appdata\\local\\programs\\python\\python37\\lib\\site-packages (from beautifulsoup4->utilities-package) (2.4)\n",
      "Collecting mypy-extensions>=0.4.3 (from black->utilities-package)\n",
      "  Downloading mypy_extensions-1.0.0-py3-none-any.whl (4.7 kB)\n",
      "Requirement already satisfied: packaging>=22.0 in c:\\users\\ricardo\\appdata\\roaming\\python\\python37\\site-packages (from black->utilities-package) (23.0)\n",
      "Collecting pathspec>=0.9.0 (from black->utilities-package)\n",
      "  Downloading pathspec-0.11.1-py3-none-any.whl (29 kB)\n",
      "Requirement already satisfied: platformdirs>=2 in c:\\users\\ricardo\\appdata\\local\\programs\\python\\python37\\lib\\site-packages (from black->utilities-package) (3.1.0)\n",
      "Collecting tomli>=1.1.0 (from black->utilities-package)\n",
      "  Downloading tomli-2.0.1-py3-none-any.whl (12 kB)\n",
      "Collecting typed-ast>=1.4.2 (from black->utilities-package)\n",
      "  Downloading typed_ast-1.5.4-cp37-cp37m-win_amd64.whl (160 kB)\n",
      "     -------------------------------------- 160.9/160.9 kB 2.4 MB/s eta 0:00:00\n",
      "Requirement already satisfied: colorama in c:\\users\\ricardo\\appdata\\roaming\\python\\python37\\site-packages (from click->utilities-package) (0.4.6)\n",
      "Requirement already satisfied: importlib-metadata in c:\\users\\ricardo\\appdata\\local\\programs\\python\\python37\\lib\\site-packages (from click->utilities-package) (6.0.0)\n",
      "Collecting cheroot>=8.2.1 (from cherrypy->utilities-package)\n",
      "  Downloading cheroot-9.0.0-py2.py3-none-any.whl (100 kB)\n",
      "     -------------------------------------- 100.6/100.6 kB 2.9 MB/s eta 0:00:00\n",
      "Collecting portend>=2.1.1 (from cherrypy->utilities-package)\n",
      "  Downloading portend-3.1.0-py3-none-any.whl (5.3 kB)\n",
      "Collecting more-itertools (from cherrypy->utilities-package)\n",
      "  Downloading more_itertools-9.1.0-py3-none-any.whl (54 kB)\n",
      "     ---------------------------------------- 54.2/54.2 kB ? eta 0:00:00\n",
      "Collecting zc.lockfile (from cherrypy->utilities-package)\n",
      "  Downloading zc.lockfile-3.0.post1-py3-none-any.whl (9.8 kB)\n",
      "Collecting jaraco.collections (from cherrypy->utilities-package)\n",
      "  Downloading jaraco.collections-4.1.0-py3-none-any.whl (11 kB)\n",
      "Requirement already satisfied: pywin32>=227 in c:\\users\\ricardo\\appdata\\roaming\\python\\python37\\site-packages (from cherrypy->utilities-package) (305)\n",
      "Collecting mccabe<0.8.0,>=0.7.0 (from flake8->utilities-package)\n",
      "  Downloading mccabe-0.7.0-py2.py3-none-any.whl (7.3 kB)\n",
      "Collecting pycodestyle<2.10.0,>=2.9.0 (from flake8->utilities-package)\n",
      "  Downloading pycodestyle-2.9.1-py2.py3-none-any.whl (41 kB)\n",
      "     ---------------------------------------- 41.5/41.5 kB 2.0 MB/s eta 0:00:00\n",
      "Collecting pyflakes<2.6.0,>=2.5.0 (from flake8->utilities-package)\n",
      "  Downloading pyflakes-2.5.0-py2.py3-none-any.whl (66 kB)\n",
      "     ---------------------------------------- 66.1/66.1 kB ? eta 0:00:00\n",
      "Collecting importlib-metadata (from click->utilities-package)\n",
      "  Downloading importlib_metadata-4.2.0-py3-none-any.whl (16 kB)\n",
      "Requirement already satisfied: Werkzeug>=2.2.2 in c:\\users\\ricardo\\appdata\\roaming\\python\\python37\\site-packages (from flask->utilities-package) (2.2.3)\n",
      "Requirement already satisfied: itsdangerous>=2.0 in c:\\users\\ricardo\\appdata\\local\\programs\\python\\python37\\lib\\site-packages (from flask->utilities-package) (2.1.2)\n",
      "Requirement already satisfied: MarkupSafe>=2.0 in c:\\users\\ricardo\\appdata\\roaming\\python\\python37\\site-packages (from Jinja2->utilities-package) (2.1.2)\n",
      "Requirement already satisfied: pyparsing in c:\\users\\ricardo\\appdata\\local\\programs\\python\\python37\\lib\\site-packages (from pycontracts->utilities-package) (3.0.9)\n",
      "Requirement already satisfied: decorator in c:\\users\\ricardo\\appdata\\roaming\\python\\python37\\site-packages (from pycontracts->utilities-package) (5.1.1)\n",
      "Collecting future (from pycontracts->utilities-package)\n",
      "  Downloading future-0.18.3.tar.gz (840 kB)\n",
      "     -------------------------------------- 840.9/840.9 kB 3.8 MB/s eta 0:00:00\n",
      "  Preparing metadata (setup.py): started\n",
      "  Preparing metadata (setup.py): finished with status 'done'\n",
      "Collecting iniconfig (from pytest->utilities-package)\n",
      "  Downloading iniconfig-2.0.0-py3-none-any.whl (5.9 kB)\n",
      "Collecting pluggy<2.0,>=0.12 (from pytest->utilities-package)\n",
      "  Downloading pluggy-1.0.0-py2.py3-none-any.whl (13 kB)\n",
      "Collecting exceptiongroup>=1.0.0rc8 (from pytest->utilities-package)\n",
      "  Using cached exceptiongroup-1.1.1-py3-none-any.whl (14 kB)\n",
      "Collecting pylint>=2.3.0 (from pytest-pylint->utilities-package)\n",
      "  Downloading pylint-2.17.4-py3-none-any.whl (536 kB)\n",
      "     -------------------------------------- 536.6/536.6 kB 4.8 MB/s eta 0:00:00\n",
      "Requirement already satisfied: toml>=0.7.1 in c:\\users\\ricardo\\appdata\\local\\programs\\python\\python37\\lib\\site-packages (from pytest-pylint->utilities-package) (0.10.2)\n",
      "Collecting mando<0.8,>=0.6 (from radon->utilities-package)\n",
      "  Downloading mando-0.7.1-py2.py3-none-any.whl (28 kB)\n",
      "Requirement already satisfied: idna<4,>=2.5 in c:\\users\\ricardo\\appdata\\local\\programs\\python\\python37\\lib\\site-packages (from requests->utilities-package) (3.4)\n",
      "Requirement already satisfied: urllib3<1.27,>=1.21.1 in c:\\users\\ricardo\\appdata\\local\\programs\\python\\python37\\lib\\site-packages (from requests->utilities-package) (1.26.14)\n",
      "Requirement already satisfied: certifi>=2017.4.17 in c:\\users\\ricardo\\appdata\\local\\programs\\python\\python37\\lib\\site-packages (from requests->utilities-package) (2022.12.7)\n",
      "Requirement already satisfied: numpy<1.23.0,>=1.16.5 in c:\\users\\ricardo\\appdata\\local\\programs\\python\\python37\\lib\\site-packages (from scipy->utilities-package) (1.21.6)\n",
      "Collecting jaraco.functools (from cheroot>=8.2.1->cherrypy->utilities-package)\n",
      "  Downloading jaraco.functools-3.6.0-py3-none-any.whl (7.9 kB)\n",
      "Requirement already satisfied: zipp>=0.5 in c:\\users\\ricardo\\appdata\\local\\programs\\python\\python37\\lib\\site-packages (from importlib-metadata->click->utilities-package) (3.15.0)\n",
      "Collecting tempora>=1.8 (from portend>=2.1.1->cherrypy->utilities-package)\n",
      "  Downloading tempora-5.2.2-py3-none-any.whl (13 kB)\n",
      "Collecting astroid<=2.17.0-dev0,>=2.15.4 (from pylint>=2.3.0->pytest-pylint->utilities-package)\n",
      "  Downloading astroid-2.15.5-py3-none-any.whl (278 kB)\n",
      "     -------------------------------------- 278.1/278.1 kB 2.8 MB/s eta 0:00:00\n",
      "Collecting isort<6,>=4.2.5 (from pylint>=2.3.0->pytest-pylint->utilities-package)\n",
      "  Downloading isort-5.11.5-py3-none-any.whl (104 kB)\n",
      "     -------------------------------------- 104.1/104.1 kB 3.0 MB/s eta 0:00:00\n",
      "Collecting tomlkit>=0.10.1 (from pylint>=2.3.0->pytest-pylint->utilities-package)\n",
      "  Downloading tomlkit-0.11.8-py3-none-any.whl (35 kB)\n",
      "Collecting dill>=0.2 (from pylint>=2.3.0->pytest-pylint->utilities-package)\n",
      "  Downloading dill-0.3.6-py3-none-any.whl (110 kB)\n",
      "     -------------------------------------- 110.5/110.5 kB 6.7 MB/s eta 0:00:00\n",
      "Collecting jaraco.text (from jaraco.collections->cherrypy->utilities-package)\n",
      "  Downloading jaraco.text-3.11.1-py3-none-any.whl (11 kB)\n",
      "Collecting lazy-object-proxy>=1.4.0 (from astroid<=2.17.0-dev0,>=2.15.4->pylint>=2.3.0->pytest-pylint->utilities-package)\n",
      "  Downloading lazy_object_proxy-1.9.0-cp37-cp37m-win_amd64.whl (22 kB)\n",
      "Requirement already satisfied: wrapt<2,>=1.11 in c:\\users\\ricardo\\appdata\\roaming\\python\\python37\\site-packages (from astroid<=2.17.0-dev0,>=2.15.4->pylint>=2.3.0->pytest-pylint->utilities-package) (1.15.0)\n",
      "Collecting jaraco.context>=4.1 (from jaraco.text->jaraco.collections->cherrypy->utilities-package)\n",
      "  Downloading jaraco.context-4.3.0-py3-none-any.whl (5.3 kB)\n",
      "Collecting autocommand (from jaraco.text->jaraco.collections->cherrypy->utilities-package)\n",
      "  Downloading autocommand-2.2.2-py3-none-any.whl (19 kB)\n",
      "Collecting inflect (from jaraco.text->jaraco.collections->cherrypy->utilities-package)\n",
      "  Downloading inflect-6.0.4-py3-none-any.whl (34 kB)\n",
      "Requirement already satisfied: importlib-resources in c:\\users\\ricardo\\appdata\\local\\programs\\python\\python37\\lib\\site-packages (from jaraco.text->jaraco.collections->cherrypy->utilities-package) (5.12.0)\n",
      "Collecting pydantic>=1.9.1 (from inflect->jaraco.text->jaraco.collections->cherrypy->utilities-package)\n",
      "  Downloading pydantic-1.10.7-cp37-cp37m-win_amd64.whl (2.1 MB)\n",
      "     ---------------------------------------- 2.1/2.1 MB 3.6 MB/s eta 0:00:00\n",
      "Building wheels for collected packages: utilities-package, bash, pycontracts, tailer, future\n",
      "  Building wheel for utilities-package (setup.py): started\n",
      "  Building wheel for utilities-package (setup.py): finished with status 'done'\n",
      "  Created wheel for utilities-package: filename=utilities_package-0.0.8-py3-none-any.whl size=38404 sha256=602498bd17141275f2e66b43e1d5e00c1fa4a9f4ce14563948f17462bc987c4c\n",
      "  Stored in directory: c:\\users\\ricardo\\appdata\\local\\pip\\cache\\wheels\\db\\c9\\ec\\c1bd617fa13dc781120945ec12c68e3f6d36dbf3652f588de1\n",
      "  Building wheel for bash (setup.py): started\n",
      "  Building wheel for bash (setup.py): finished with status 'done'\n",
      "  Created wheel for bash: filename=bash-0.6-py3-none-any.whl size=3003 sha256=dacc4b39c91396953d65849636165f693accc126ca85ba93bde462d58b5ba358\n",
      "  Stored in directory: c:\\users\\ricardo\\appdata\\local\\pip\\cache\\wheels\\ba\\50\\5c\\cf776045ee6baa7d0afff83c93c53ded8185fae2e4da006117\n",
      "  Building wheel for pycontracts (setup.py): started\n",
      "  Building wheel for pycontracts (setup.py): finished with status 'done'\n",
      "  Created wheel for pycontracts: filename=PyContracts-1.8.12-py3-none-any.whl size=89692 sha256=e424283475905ff08105ecc9a1f2e2f9543a7405363aa5b46de9e27e1a6e45f1\n",
      "  Stored in directory: c:\\users\\ricardo\\appdata\\local\\pip\\cache\\wheels\\98\\f8\\7c\\350d5f1ca70fe678b88d854f5077bdf28196dd6dafd121c19c\n",
      "  Building wheel for tailer (setup.py): started\n",
      "  Building wheel for tailer (setup.py): finished with status 'done'\n",
      "  Created wheel for tailer: filename=tailer-0.4.1-py3-none-any.whl size=5421 sha256=b5221e5bbe6a6ce921b9e40bfb38b3dc1296c0ae86b741ae28455dc1fd16d14d\n",
      "  Stored in directory: c:\\users\\ricardo\\appdata\\local\\pip\\cache\\wheels\\48\\d5\\2f\\7e3ee58a2d87b52abe8eceb63c17c6d9fa0b792b0432aa2a1b\n",
      "  Building wheel for future (setup.py): started\n",
      "  Building wheel for future (setup.py): finished with status 'done'\n",
      "  Created wheel for future: filename=future-0.18.3-py3-none-any.whl size=492053 sha256=e587816e7ce845f7745de277af2689123f50e18c61a6604567e62dfe352bfad1\n",
      "  Stored in directory: c:\\users\\ricardo\\appdata\\local\\pip\\cache\\wheels\\fa\\cd\\1f\\c6b7b50b564983bf3011e8fc75d06047ddc50c07f6e3660b00\n",
      "Successfully built utilities-package bash pycontracts tailer future\n",
      "Installing collected packages: texttable, tailer, bottle, bash, zc.lockfile, uritools, typed-ast, tomlkit, tomli, simplejson, schedule, pyflakes, pydantic, pycodestyle, pathspec, mypy-extensions, multidict, more-itertools, mccabe, mando, lazy-object-proxy, jaraco.context, isort, iniconfig, importlib-metadata, future, frozenlist, exceptiongroup, dill, coverage, configparser, bcrypt, base58, autocommand, asynctest, async-timeout, yarl, radon, pycontracts, pluggy, jaraco.functools, inflect, flake8, cssutils, astroid, aiosignal, tempora, pytest, pylint, jaraco.text, cli-passthrough, cheroot, black, aiohttp, pytest-pylint, pytest-mock, pytest-cov, pytest-click, portend, jaraco.collections, cherrypy, utilities-package\n",
      "  Attempting uninstall: importlib-metadata\n",
      "    Found existing installation: importlib-metadata 6.0.0\n",
      "    Uninstalling importlib-metadata-6.0.0:\n",
      "      Successfully uninstalled importlib-metadata-6.0.0\n",
      "Successfully installed aiohttp-3.8.4 aiosignal-1.3.1 astroid-2.15.5 async-timeout-4.0.2 asynctest-0.13.0 autocommand-2.2.2 base58-2.1.1 bash-0.6 bcrypt-4.0.1 black-23.3.0 bottle-0.12.25 cheroot-9.0.0 cherrypy-18.8.0 cli-passthrough-0.1.3 configparser-5.3.0 coverage-7.2.5 cssutils-2.6.0 dill-0.3.6 exceptiongroup-1.1.1 flake8-5.0.4 frozenlist-1.3.3 future-0.18.3 importlib-metadata-4.2.0 inflect-6.0.4 iniconfig-2.0.0 isort-5.11.5 jaraco.collections-4.1.0 jaraco.context-4.3.0 jaraco.functools-3.6.0 jaraco.text-3.11.1 lazy-object-proxy-1.9.0 mando-0.7.1 mccabe-0.7.0 more-itertools-9.1.0 multidict-6.0.4 mypy-extensions-1.0.0 pathspec-0.11.1 pluggy-1.0.0 portend-3.1.0 pycodestyle-2.9.1 pycontracts-1.8.12 pydantic-1.10.7 pyflakes-2.5.0 pylint-2.17.4 pytest-7.3.1 pytest-click-1.1.0 pytest-cov-4.0.0 pytest-mock-3.10.0 pytest-pylint-0.19.0 radon-6.0.1 schedule-1.2.0 simplejson-3.19.1 tailer-0.4.1 tempora-5.2.2 texttable-1.6.7 tomli-2.0.1 tomlkit-0.11.8 typed-ast-1.5.4 uritools-4.0.1 utilities-package-0.0.8 yarl-1.9.2 zc.lockfile-3.0.post1\n",
      "Note: you may need to restart the kernel to use updated packages.\n"
     ]
    },
    {
     "name": "stderr",
     "output_type": "stream",
     "text": [
      "ERROR: pip's dependency resolver does not currently take into account all the packages that are installed. This behaviour is the source of the following dependency conflicts.\n",
      "markdown 3.4.3 requires importlib-metadata>=4.4; python_version < \"3.10\", but you have importlib-metadata 4.2.0 which is incompatible.\n",
      "virtualenv 20.20.0 requires importlib-metadata>=4.8.3; python_version < \"3.8\", but you have importlib-metadata 4.2.0 which is incompatible.\n"
     ]
    }
   ],
   "source": [
    "%pip install utilities-package"
   ]
  },
  {
   "cell_type": "code",
   "execution_count": 2,
   "metadata": {},
   "outputs": [
    {
     "ename": "ModuleNotFoundError",
     "evalue": "No module named 'Utilities'",
     "output_type": "error",
     "traceback": [
      "\u001b[1;31m---------------------------------------------------------------------------\u001b[0m",
      "\u001b[1;31mModuleNotFoundError\u001b[0m                       Traceback (most recent call last)",
      "\u001b[1;32m~\\AppData\\Local\\Temp\\ipykernel_29948\\214695414.py\u001b[0m in \u001b[0;36m<module>\u001b[1;34m\u001b[0m\n\u001b[0;32m      1\u001b[0m \u001b[1;31m#!pip install unidecode\u001b[0m\u001b[1;33m\u001b[0m\u001b[1;33m\u001b[0m\u001b[1;33m\u001b[0m\u001b[0m\n\u001b[0;32m      2\u001b[0m \u001b[0msys\u001b[0m\u001b[1;33m.\u001b[0m\u001b[0mpath\u001b[0m\u001b[1;33m.\u001b[0m\u001b[0mappend\u001b[0m\u001b[1;33m(\u001b[0m\u001b[1;34mr\"Utilities\"\u001b[0m\u001b[1;33m)\u001b[0m\u001b[1;33m\u001b[0m\u001b[1;33m\u001b[0m\u001b[0m\n\u001b[1;32m----> 3\u001b[1;33m \u001b[1;32mimport\u001b[0m \u001b[0mUtilities\u001b[0m\u001b[1;33m\u001b[0m\u001b[1;33m\u001b[0m\u001b[0m\n\u001b[0m",
      "\u001b[1;31mModuleNotFoundError\u001b[0m: No module named 'Utilities'"
     ]
    }
   ],
   "source": [
    "\n",
    "#!pip install unidecode\n",
    "sys.path.append(r\"Utilities\")\n",
    "import Utilities "
   ]
  },
  {
   "attachments": {},
   "cell_type": "markdown",
   "metadata": {},
   "source": [
    "# Limpieza dataset"
   ]
  },
  {
   "cell_type": "code",
   "execution_count": null,
   "metadata": {},
   "outputs": [],
   "source": [
    "dataset=pd.read_csv('../data/df_comerios.csv')\n"
   ]
  },
  {
   "cell_type": "code",
   "execution_count": null,
   "metadata": {},
   "outputs": [],
   "source": [
    "dataset=dataset.drop([\"id\",'image_url','is_closed','review_count','display_phone','location'], axis=1)"
   ]
  },
  {
   "cell_type": "code",
   "execution_count": null,
   "metadata": {},
   "outputs": [
    {
     "name": "stdout",
     "output_type": "stream",
     "text": [
      "<class 'pandas.core.frame.DataFrame'>\n",
      "RangeIndex: 958 entries, 0 to 957\n",
      "Data columns (total 10 columns):\n",
      " #   Column       Non-Null Count  Dtype  \n",
      "---  ------       --------------  -----  \n",
      " 0   name         958 non-null    object \n",
      " 1   rating       958 non-null    float64\n",
      " 2   address      958 non-null    object \n",
      " 3   description  956 non-null    object \n",
      " 4   review       463 non-null    object \n",
      " 5   alias        958 non-null    object \n",
      " 6   latitude     958 non-null    float64\n",
      " 7   longitude    958 non-null    float64\n",
      " 8   price        620 non-null    object \n",
      " 9   distrito     958 non-null    object \n",
      "dtypes: float64(3), object(7)\n",
      "memory usage: 75.0+ KB\n"
     ]
    }
   ],
   "source": [
    "dataset.info()"
   ]
  },
  {
   "cell_type": "code",
   "execution_count": null,
   "metadata": {},
   "outputs": [
    {
     "data": {
      "text/html": [
       "<div>\n",
       "<style scoped>\n",
       "    .dataframe tbody tr th:only-of-type {\n",
       "        vertical-align: middle;\n",
       "    }\n",
       "\n",
       "    .dataframe tbody tr th {\n",
       "        vertical-align: top;\n",
       "    }\n",
       "\n",
       "    .dataframe thead th {\n",
       "        text-align: right;\n",
       "    }\n",
       "</style>\n",
       "<table border=\"1\" class=\"dataframe\">\n",
       "  <thead>\n",
       "    <tr style=\"text-align: right;\">\n",
       "      <th></th>\n",
       "      <th>name</th>\n",
       "      <th>rating</th>\n",
       "      <th>address</th>\n",
       "      <th>description</th>\n",
       "      <th>review</th>\n",
       "      <th>alias</th>\n",
       "      <th>latitude</th>\n",
       "      <th>longitude</th>\n",
       "      <th>price</th>\n",
       "      <th>distrito</th>\n",
       "    </tr>\n",
       "  </thead>\n",
       "  <tbody>\n",
       "    <tr>\n",
       "      <th>0</th>\n",
       "      <td>El Rincón Asturiano</td>\n",
       "      <td>1.0</td>\n",
       "      <td>Calle de las Delicias, 26, 28045 Madrid, Spain</td>\n",
       "      <td>Spanish Asturian Tapas Bars</td>\n",
       "      <td>We are here for dinner again on two consecutiv...</td>\n",
       "      <td>el-rincón-asturiano-madrid-2</td>\n",
       "      <td>40.403985</td>\n",
       "      <td>-3.692258</td>\n",
       "      <td>€€</td>\n",
       "      <td>Arganzuela</td>\n",
       "    </tr>\n",
       "    <tr>\n",
       "      <th>1</th>\n",
       "      <td>Donde da la Vuelta el Viento</td>\n",
       "      <td>5.0</td>\n",
       "      <td>Calle de Mesón de Paredes, 81, 28012 Madrid, S...</td>\n",
       "      <td>Tapas Bars Spanish Modern European</td>\n",
       "      <td>Great place with friendly staff. I came for ta...</td>\n",
       "      <td>donde-da-la-vuelta-el-viento-madrid</td>\n",
       "      <td>40.406190</td>\n",
       "      <td>-3.701441</td>\n",
       "      <td>€</td>\n",
       "      <td>Arganzuela</td>\n",
       "    </tr>\n",
       "  </tbody>\n",
       "</table>\n",
       "</div>"
      ],
      "text/plain": [
       "                           name  rating  \\\n",
       "0           El Rincón Asturiano     1.0   \n",
       "1  Donde da la Vuelta el Viento     5.0   \n",
       "\n",
       "                                             address  \\\n",
       "0     Calle de las Delicias, 26, 28045 Madrid, Spain   \n",
       "1  Calle de Mesón de Paredes, 81, 28012 Madrid, S...   \n",
       "\n",
       "                           description  \\\n",
       "0         Spanish Asturian Tapas Bars    \n",
       "1  Tapas Bars Spanish Modern European    \n",
       "\n",
       "                                              review  \\\n",
       "0  We are here for dinner again on two consecutiv...   \n",
       "1  Great place with friendly staff. I came for ta...   \n",
       "\n",
       "                                 alias   latitude  longitude price    distrito  \n",
       "0         el-rincón-asturiano-madrid-2  40.403985  -3.692258    €€  Arganzuela  \n",
       "1  donde-da-la-vuelta-el-viento-madrid  40.406190  -3.701441     €  Arganzuela  "
      ]
     },
     "execution_count": 12,
     "metadata": {},
     "output_type": "execute_result"
    }
   ],
   "source": [
    "dataset.head(2)"
   ]
  },
  {
   "cell_type": "code",
   "execution_count": null,
   "metadata": {},
   "outputs": [],
   "source": [
    "dataset['combinacion'] = dataset[['description', 'review', 'alias','distrito']].apply(lambda x: ' '.join(x.dropna().astype(str)), axis=1)"
   ]
  },
  {
   "cell_type": "code",
   "execution_count": null,
   "metadata": {},
   "outputs": [],
   "source": [
    "dataset=dataset.drop(['description', 'review', 'alias','distrito'], axis=1)"
   ]
  },
  {
   "cell_type": "code",
   "execution_count": null,
   "metadata": {},
   "outputs": [
    {
     "data": {
      "text/html": [
       "<div>\n",
       "<style scoped>\n",
       "    .dataframe tbody tr th:only-of-type {\n",
       "        vertical-align: middle;\n",
       "    }\n",
       "\n",
       "    .dataframe tbody tr th {\n",
       "        vertical-align: top;\n",
       "    }\n",
       "\n",
       "    .dataframe thead th {\n",
       "        text-align: right;\n",
       "    }\n",
       "</style>\n",
       "<table border=\"1\" class=\"dataframe\">\n",
       "  <thead>\n",
       "    <tr style=\"text-align: right;\">\n",
       "      <th></th>\n",
       "      <th>name</th>\n",
       "      <th>rating</th>\n",
       "      <th>address</th>\n",
       "      <th>latitude</th>\n",
       "      <th>longitude</th>\n",
       "      <th>price</th>\n",
       "      <th>combinacion</th>\n",
       "    </tr>\n",
       "  </thead>\n",
       "  <tbody>\n",
       "    <tr>\n",
       "      <th>0</th>\n",
       "      <td>El Rincón Asturiano</td>\n",
       "      <td>1.0</td>\n",
       "      <td>Calle de las Delicias, 26, 28045 Madrid, Spain</td>\n",
       "      <td>40.403985</td>\n",
       "      <td>-3.692258</td>\n",
       "      <td>€€</td>\n",
       "      <td>Spanish Asturian Tapas Bars  We are here for d...</td>\n",
       "    </tr>\n",
       "    <tr>\n",
       "      <th>1</th>\n",
       "      <td>Donde da la Vuelta el Viento</td>\n",
       "      <td>5.0</td>\n",
       "      <td>Calle de Mesón de Paredes, 81, 28012 Madrid, S...</td>\n",
       "      <td>40.406190</td>\n",
       "      <td>-3.701441</td>\n",
       "      <td>€</td>\n",
       "      <td>Tapas Bars Spanish Modern European  Great plac...</td>\n",
       "    </tr>\n",
       "  </tbody>\n",
       "</table>\n",
       "</div>"
      ],
      "text/plain": [
       "                           name  rating  \\\n",
       "0           El Rincón Asturiano     1.0   \n",
       "1  Donde da la Vuelta el Viento     5.0   \n",
       "\n",
       "                                             address   latitude  longitude  \\\n",
       "0     Calle de las Delicias, 26, 28045 Madrid, Spain  40.403985  -3.692258   \n",
       "1  Calle de Mesón de Paredes, 81, 28012 Madrid, S...  40.406190  -3.701441   \n",
       "\n",
       "  price                                        combinacion  \n",
       "0    €€  Spanish Asturian Tapas Bars  We are here for d...  \n",
       "1     €  Tapas Bars Spanish Modern European  Great plac...  "
      ]
     },
     "execution_count": 15,
     "metadata": {},
     "output_type": "execute_result"
    }
   ],
   "source": [
    "dataset.head(2)"
   ]
  },
  {
   "attachments": {},
   "cell_type": "markdown",
   "metadata": {},
   "source": [
    "# Limpieza de columna analisis"
   ]
  },
  {
   "attachments": {},
   "cell_type": "markdown",
   "metadata": {},
   "source": [
    "Lo primero separamos el texto en palabras\n"
   ]
  },
  {
   "cell_type": "code",
   "execution_count": null,
   "metadata": {},
   "outputs": [
    {
     "ename": "NameError",
     "evalue": "name 'Utilities' is not defined",
     "output_type": "error",
     "traceback": [
      "\u001b[1;31m---------------------------------------------------------------------------\u001b[0m",
      "\u001b[1;31mNameError\u001b[0m                                 Traceback (most recent call last)",
      "\u001b[1;32m~\\AppData\\Local\\Temp\\ipykernel_33688\\2774207706.py\u001b[0m in \u001b[0;36m<module>\u001b[1;34m\u001b[0m\n\u001b[0;32m      1\u001b[0m \u001b[1;31m#Tokenization\u001b[0m\u001b[1;33m\u001b[0m\u001b[1;33m\u001b[0m\u001b[1;33m\u001b[0m\u001b[0m\n\u001b[1;32m----> 2\u001b[1;33m \u001b[0mdataset\u001b[0m\u001b[1;33m[\u001b[0m\u001b[1;34m'Descripcion_tok'\u001b[0m\u001b[1;33m]\u001b[0m \u001b[1;33m=\u001b[0m \u001b[0mdataset\u001b[0m\u001b[1;33m[\u001b[0m\u001b[1;34m'combinacion'\u001b[0m\u001b[1;33m]\u001b[0m\u001b[1;33m.\u001b[0m\u001b[0mapply\u001b[0m\u001b[1;33m(\u001b[0m\u001b[1;32mlambda\u001b[0m \u001b[0mx\u001b[0m\u001b[1;33m:\u001b[0m \u001b[0mUtilities\u001b[0m\u001b[1;33m.\u001b[0m\u001b[0mtokenizacion\u001b[0m\u001b[1;33m(\u001b[0m\u001b[0mx\u001b[0m\u001b[1;33m)\u001b[0m\u001b[1;33m)\u001b[0m\u001b[1;33m\u001b[0m\u001b[1;33m\u001b[0m\u001b[0m\n\u001b[0m\u001b[0;32m      3\u001b[0m \u001b[0mdataset\u001b[0m\u001b[1;33m[\u001b[0m\u001b[1;34m'Descripcion_tok'\u001b[0m\u001b[1;33m]\u001b[0m\u001b[1;33m.\u001b[0m\u001b[0mhead\u001b[0m\u001b[1;33m(\u001b[0m\u001b[1;36m10\u001b[0m\u001b[1;33m)\u001b[0m\u001b[1;33m\u001b[0m\u001b[1;33m\u001b[0m\u001b[0m\n",
      "\u001b[1;32mc:\\Users\\ricardo\\AppData\\Local\\Programs\\Python\\Python37\\lib\\site-packages\\pandas\\core\\series.py\u001b[0m in \u001b[0;36mapply\u001b[1;34m(self, func, convert_dtype, args, **kwargs)\u001b[0m\n\u001b[0;32m   4355\u001b[0m         \u001b[0mdtype\u001b[0m\u001b[1;33m:\u001b[0m \u001b[0mfloat64\u001b[0m\u001b[1;33m\u001b[0m\u001b[1;33m\u001b[0m\u001b[0m\n\u001b[0;32m   4356\u001b[0m         \"\"\"\n\u001b[1;32m-> 4357\u001b[1;33m         \u001b[1;32mreturn\u001b[0m \u001b[0mSeriesApply\u001b[0m\u001b[1;33m(\u001b[0m\u001b[0mself\u001b[0m\u001b[1;33m,\u001b[0m \u001b[0mfunc\u001b[0m\u001b[1;33m,\u001b[0m \u001b[0mconvert_dtype\u001b[0m\u001b[1;33m,\u001b[0m \u001b[0margs\u001b[0m\u001b[1;33m,\u001b[0m \u001b[0mkwargs\u001b[0m\u001b[1;33m)\u001b[0m\u001b[1;33m.\u001b[0m\u001b[0mapply\u001b[0m\u001b[1;33m(\u001b[0m\u001b[1;33m)\u001b[0m\u001b[1;33m\u001b[0m\u001b[1;33m\u001b[0m\u001b[0m\n\u001b[0m\u001b[0;32m   4358\u001b[0m \u001b[1;33m\u001b[0m\u001b[0m\n\u001b[0;32m   4359\u001b[0m     def _reduce(\n",
      "\u001b[1;32mc:\\Users\\ricardo\\AppData\\Local\\Programs\\Python\\Python37\\lib\\site-packages\\pandas\\core\\apply.py\u001b[0m in \u001b[0;36mapply\u001b[1;34m(self)\u001b[0m\n\u001b[0;32m   1041\u001b[0m             \u001b[1;32mreturn\u001b[0m \u001b[0mself\u001b[0m\u001b[1;33m.\u001b[0m\u001b[0mapply_str\u001b[0m\u001b[1;33m(\u001b[0m\u001b[1;33m)\u001b[0m\u001b[1;33m\u001b[0m\u001b[1;33m\u001b[0m\u001b[0m\n\u001b[0;32m   1042\u001b[0m \u001b[1;33m\u001b[0m\u001b[0m\n\u001b[1;32m-> 1043\u001b[1;33m         \u001b[1;32mreturn\u001b[0m \u001b[0mself\u001b[0m\u001b[1;33m.\u001b[0m\u001b[0mapply_standard\u001b[0m\u001b[1;33m(\u001b[0m\u001b[1;33m)\u001b[0m\u001b[1;33m\u001b[0m\u001b[1;33m\u001b[0m\u001b[0m\n\u001b[0m\u001b[0;32m   1044\u001b[0m \u001b[1;33m\u001b[0m\u001b[0m\n\u001b[0;32m   1045\u001b[0m     \u001b[1;32mdef\u001b[0m \u001b[0magg\u001b[0m\u001b[1;33m(\u001b[0m\u001b[0mself\u001b[0m\u001b[1;33m)\u001b[0m\u001b[1;33m:\u001b[0m\u001b[1;33m\u001b[0m\u001b[1;33m\u001b[0m\u001b[0m\n",
      "\u001b[1;32mc:\\Users\\ricardo\\AppData\\Local\\Programs\\Python\\Python37\\lib\\site-packages\\pandas\\core\\apply.py\u001b[0m in \u001b[0;36mapply_standard\u001b[1;34m(self)\u001b[0m\n\u001b[0;32m   1099\u001b[0m                     \u001b[0mvalues\u001b[0m\u001b[1;33m,\u001b[0m\u001b[1;33m\u001b[0m\u001b[1;33m\u001b[0m\u001b[0m\n\u001b[0;32m   1100\u001b[0m                     \u001b[0mf\u001b[0m\u001b[1;33m,\u001b[0m  \u001b[1;31m# type: ignore[arg-type]\u001b[0m\u001b[1;33m\u001b[0m\u001b[1;33m\u001b[0m\u001b[0m\n\u001b[1;32m-> 1101\u001b[1;33m                     \u001b[0mconvert\u001b[0m\u001b[1;33m=\u001b[0m\u001b[0mself\u001b[0m\u001b[1;33m.\u001b[0m\u001b[0mconvert_dtype\u001b[0m\u001b[1;33m,\u001b[0m\u001b[1;33m\u001b[0m\u001b[1;33m\u001b[0m\u001b[0m\n\u001b[0m\u001b[0;32m   1102\u001b[0m                 )\n\u001b[0;32m   1103\u001b[0m \u001b[1;33m\u001b[0m\u001b[0m\n",
      "\u001b[1;32mc:\\Users\\ricardo\\AppData\\Local\\Programs\\Python\\Python37\\lib\\site-packages\\pandas\\_libs\\lib.pyx\u001b[0m in \u001b[0;36mpandas._libs.lib.map_infer\u001b[1;34m()\u001b[0m\n",
      "\u001b[1;32m~\\AppData\\Local\\Temp\\ipykernel_33688\\2774207706.py\u001b[0m in \u001b[0;36m<lambda>\u001b[1;34m(x)\u001b[0m\n\u001b[0;32m      1\u001b[0m \u001b[1;31m#Tokenization\u001b[0m\u001b[1;33m\u001b[0m\u001b[1;33m\u001b[0m\u001b[1;33m\u001b[0m\u001b[0m\n\u001b[1;32m----> 2\u001b[1;33m \u001b[0mdataset\u001b[0m\u001b[1;33m[\u001b[0m\u001b[1;34m'Descripcion_tok'\u001b[0m\u001b[1;33m]\u001b[0m \u001b[1;33m=\u001b[0m \u001b[0mdataset\u001b[0m\u001b[1;33m[\u001b[0m\u001b[1;34m'combinacion'\u001b[0m\u001b[1;33m]\u001b[0m\u001b[1;33m.\u001b[0m\u001b[0mapply\u001b[0m\u001b[1;33m(\u001b[0m\u001b[1;32mlambda\u001b[0m \u001b[0mx\u001b[0m\u001b[1;33m:\u001b[0m \u001b[0mUtilities\u001b[0m\u001b[1;33m.\u001b[0m\u001b[0mtokenizacion\u001b[0m\u001b[1;33m(\u001b[0m\u001b[0mx\u001b[0m\u001b[1;33m)\u001b[0m\u001b[1;33m)\u001b[0m\u001b[1;33m\u001b[0m\u001b[1;33m\u001b[0m\u001b[0m\n\u001b[0m\u001b[0;32m      3\u001b[0m \u001b[0mdataset\u001b[0m\u001b[1;33m[\u001b[0m\u001b[1;34m'Descripcion_tok'\u001b[0m\u001b[1;33m]\u001b[0m\u001b[1;33m.\u001b[0m\u001b[0mhead\u001b[0m\u001b[1;33m(\u001b[0m\u001b[1;36m10\u001b[0m\u001b[1;33m)\u001b[0m\u001b[1;33m\u001b[0m\u001b[1;33m\u001b[0m\u001b[0m\n",
      "\u001b[1;31mNameError\u001b[0m: name 'Utilities' is not defined"
     ]
    }
   ],
   "source": [
    "#Tokenization\n",
    "dataset['Descripcion_tok'] = dataset['combinacion'].apply(lambda x: Utilities.tokenizacion(x)) \n",
    "dataset['Descripcion_tok'].head(10)"
   ]
  },
  {
   "attachments": {},
   "cell_type": "markdown",
   "metadata": {},
   "source": [
    "Ahora eliminamos palabras que aportan poco significado: articulos, preposiciones."
   ]
  },
  {
   "cell_type": "code",
   "execution_count": null,
   "metadata": {},
   "outputs": [],
   "source": [
    "dataset['Descripcion_tok'] = dataset['Descripcion_tok'].apply(lambda x:Utilities.removeStopwords(x)) \n",
    "dataset['Descripcion_tok'].head(10)"
   ]
  },
  {
   "attachments": {},
   "cell_type": "markdown",
   "metadata": {},
   "source": [
    "Ahora eliminamos signos de puntuación "
   ]
  },
  {
   "cell_type": "code",
   "execution_count": null,
   "metadata": {},
   "outputs": [],
   "source": [
    "\n",
    "dataset['Descripcion_tok'] = dataset['Descripcion_tok'].apply(lambda x:Utilities.removePunctuation(x)) \n",
    "dataset['Descripcion_tok'].head(10) "
   ]
  },
  {
   "attachments": {},
   "cell_type": "markdown",
   "metadata": {},
   "source": [
    "Ahora unimos todas las palabras, lo convertimos a string."
   ]
  },
  {
   "cell_type": "code",
   "execution_count": null,
   "metadata": {},
   "outputs": [],
   "source": [
    "\n",
    "dataset['Descripcion_clean'] = dataset['Descripcion_tok'].apply(lambda x:Utilities.arrayToString(x))\n",
    "dataset['Descripcion_clean'].head(10)"
   ]
  },
  {
   "attachments": {},
   "cell_type": "markdown",
   "metadata": {},
   "source": [
    "# Analisis importancia palabras"
   ]
  },
  {
   "cell_type": "code",
   "execution_count": null,
   "metadata": {},
   "outputs": [
    {
     "ename": "NameError",
     "evalue": "name 'CountVectorizer' is not defined",
     "output_type": "error",
     "traceback": [
      "\u001b[1;31m---------------------------------------------------------------------------\u001b[0m",
      "\u001b[1;31mNameError\u001b[0m                                 Traceback (most recent call last)",
      "\u001b[1;32m~\\AppData\\Local\\Temp\\ipykernel_10012\\149336410.py\u001b[0m in \u001b[0;36m<module>\u001b[1;34m\u001b[0m\n\u001b[0;32m      1\u001b[0m \u001b[1;31m# Contamos cada palabra y creamos con esta cuenta una matriz\u001b[0m\u001b[1;33m\u001b[0m\u001b[1;33m\u001b[0m\u001b[1;33m\u001b[0m\u001b[0m\n\u001b[0;32m      2\u001b[0m \u001b[1;33m\u001b[0m\u001b[0m\n\u001b[1;32m----> 3\u001b[1;33m \u001b[0mvectorizer\u001b[0m \u001b[1;33m=\u001b[0m \u001b[0mCountVectorizer\u001b[0m\u001b[1;33m(\u001b[0m\u001b[0mencoding\u001b[0m\u001b[1;33m=\u001b[0m\u001b[1;34m'iso-8859-1'\u001b[0m\u001b[1;33m)\u001b[0m\u001b[1;33m\u001b[0m\u001b[1;33m\u001b[0m\u001b[0m\n\u001b[0m\u001b[0;32m      4\u001b[0m \u001b[0mMatrizFrecuencias\u001b[0m \u001b[1;33m=\u001b[0m \u001b[0mvectorizer\u001b[0m\u001b[1;33m.\u001b[0m\u001b[0mfit_transform\u001b[0m\u001b[1;33m(\u001b[0m\u001b[0mdataset\u001b[0m\u001b[1;33m[\u001b[0m\u001b[1;34m'Descripcion_clean'\u001b[0m\u001b[1;33m]\u001b[0m\u001b[1;33m)\u001b[0m\u001b[1;33m\u001b[0m\u001b[1;33m\u001b[0m\u001b[0m\n\u001b[0;32m      5\u001b[0m \u001b[0mMatrizFrecuencias\u001b[0m\u001b[1;33m\u001b[0m\u001b[1;33m\u001b[0m\u001b[0m\n",
      "\u001b[1;31mNameError\u001b[0m: name 'CountVectorizer' is not defined"
     ]
    }
   ],
   "source": [
    "# Contamos cada palabra y creamos con esta cuenta una matriz\n",
    "\n",
    "vectorizer = CountVectorizer(encoding='iso-8859-1')  \n",
    "MatrizFrecuencias = vectorizer.fit_transform(dataset['Descripcion_clean'])\n",
    "MatrizFrecuencias"
   ]
  },
  {
   "cell_type": "code",
   "execution_count": null,
   "metadata": {},
   "outputs": [],
   "source": [
    "# Visualizacion matriz de Frecuencias\n",
    "\n",
    "X = pd.DataFrame(data=MatrizFrecuencias.toarray(), index= dataset['name'].values,\n",
    "                columns=vectorizer.get_feature_names_out())\n",
    "X"
   ]
  },
  {
   "cell_type": "code",
   "execution_count": null,
   "metadata": {},
   "outputs": [],
   "source": [
    "# Porcentaje de ceros por palabras, nos hacemos una idea de que palabras se repiten mucho y tienen menos importancia para el análisis\n",
    "\n",
    "PorecntajeCerosPorPalabra = X.apply(lambda x: 100*len(np.where(x ==0)[0])/len(x), axis=0).sort_values(ascending=True)\n",
    "PorecntajeCerosPorPalabra.head(10)"
   ]
  },
  {
   "attachments": {},
   "cell_type": "markdown",
   "metadata": {},
   "source": [
    "Calculamos el término frecuencia inversa de documento, para calcular la proporción de las veces que aparece cada palabra en relación con el resto de palabras ( matriz de correlación).\n"
   ]
  },
  {
   "cell_type": "code",
   "execution_count": null,
   "metadata": {},
   "outputs": [],
   "source": [
    "\n",
    "transformer = TfidfTransformer()\n",
    "tfidf = transformer.fit_transform(MatrizFrecuencias)\n",
    "tfidf"
   ]
  },
  {
   "attachments": {},
   "cell_type": "markdown",
   "metadata": {},
   "source": [
    "Ahora que ya tenemos la similitud entre las palabras, podemos clacular la similitud entre los restaurantes, en funcion de las veces que aparecen estas palabras en cada uno de ellos."
   ]
  },
  {
   "cell_type": "code",
   "execution_count": null,
   "metadata": {},
   "outputs": [],
   "source": [
    "tdm = tfidf.transpose()\n",
    "dtm = tfidf\n",
    "Simil = dtm.dot(tdm) #TRANSPONES LA MATRIZ PARA MULTIPLICARLA POR SI MISMA (MATRIZ AL CUADRADO)"
   ]
  },
  {
   "attachments": {},
   "cell_type": "markdown",
   "metadata": {},
   "source": [
    "Visualizamos el resultado de la matriz de similitud\n"
   ]
  },
  {
   "cell_type": "code",
   "execution_count": null,
   "metadata": {},
   "outputs": [],
   "source": [
    "SimilDF = pd.DataFrame(data = Simil.toarray(), index=dataset['name'].values,columns=dataset['name'].values)\n",
    "SimilDF"
   ]
  },
  {
   "cell_type": "code",
   "execution_count": null,
   "metadata": {},
   "outputs": [],
   "source": [
    "Top = 10\n",
    "Num_restaurante = 55\n",
    "print('restaurante:',SimilDF.columns[Num_restaurante])\n",
    "RecomendacionItemItem = SimilDF.iloc[(-SimilDF.iloc[:, Num_restaurante]).argsort()[1:(Top+1)].values, Num_restaurante] \n",
    "print ('\\n Los restaurantes más similares son:')\n",
    "RecomendacionItemItem"
   ]
  }
 ],
 "metadata": {
  "kernelspec": {
   "display_name": "Python 3",
   "language": "python",
   "name": "python3"
  },
  "language_info": {
   "codemirror_mode": {
    "name": "ipython",
    "version": 3
   },
   "file_extension": ".py",
   "mimetype": "text/x-python",
   "name": "python",
   "nbconvert_exporter": "python",
   "pygments_lexer": "ipython3",
   "version": "3.7.4"
  },
  "orig_nbformat": 4
 },
 "nbformat": 4,
 "nbformat_minor": 2
}
